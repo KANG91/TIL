{
 "cells": [
  {
   "cell_type": "markdown",
   "metadata": {},
   "source": [
    "0~9까지의 문자로 된 숫자를 입력 받았을 때, 이 입력 값이 0~9까지의 숫자가 각각 한 번 씩만 사용된 것인지 확인하는 함수를 구하시오.\n",
    "\n",
    "**sample inputs**: 0123456789 01234 01234567890 6789012345 012322456789\n",
    "\n",
    "**sample outputs**: true false false true false"
   ]
  },
  {
   "cell_type": "code",
   "execution_count": 62,
   "metadata": {
    "scrolled": true
   },
   "outputs": [
    {
     "name": "stdout",
     "output_type": "stream",
     "text": [
      "0123456789 01234 01234567890 6789012345 012322456789\n",
      "true\n",
      "false\n",
      "false\n",
      "true\n",
      "false\n"
     ]
    }
   ],
   "source": [
    "n = [''.join(sorted(x)) for x in input().split()]\n",
    "for x in n:\n",
    "    print(\"true\") if x==\"0123456789\" else print(\"false\")"
   ]
  },
  {
   "cell_type": "markdown",
   "metadata": {},
   "source": [
    "#### Park\n",
    "1. 양음이 섞여있는 정수들의 배열에서 양은 왼쪽으로 음은 오른쪽으로 나누세요. 이때, 배열 순서의 변경은 없어야 한다.  \n",
    "\n",
    "ex)  \n",
    "data = [-1,-3,2,4,5,-4,42,231,-3123,4214,-124] 입력하면  \n",
    "결과 = [2, 4, 5, 42, 231, 4214, -1, -3, -4, -3123, -124] 이런식으로 나오도록 해주세요~  "
   ]
  },
  {
   "cell_type": "code",
   "execution_count": 63,
   "metadata": {},
   "outputs": [
    {
     "data": {
      "text/plain": [
       "[2, 4, 5, 42, 231, 4214, -1, -3, -4, -3123, -124]"
      ]
     },
     "execution_count": 63,
     "metadata": {},
     "output_type": "execute_result"
    }
   ],
   "source": [
    "data = [-1,-3,2,4,5,-4,42,231,-3123,4214,-124]\n",
    "\n",
    "plus = [i for i in data if i > 0]\n",
    "minus = [i for i in data if i < 0]\n",
    "\n",
    "result = plus + minus\n",
    "\n",
    "result"
   ]
  },
  {
   "cell_type": "markdown",
   "metadata": {},
   "source": [
    "#### Baek\n",
    "배열을 다음과 같은 형태로 바꾸세요.\n",
    "\n",
    "입력 : [a1,a2,a3...,an,b1,b2...bn]\n",
    "\n",
    "출력 : [a1,b1,a2,b2.....an,bn]"
   ]
  },
  {
   "cell_type": "code",
   "execution_count": 59,
   "metadata": {},
   "outputs": [],
   "source": [
    "ls = [\"a1\",\"a2\",\"a3\",\"a4\",\"a5\",\"a6\",\"b1\",\"b2\",\"b3\",\"b4\",\"b5\",\"b6\"]\n",
    "n = 1\n",
    "result = []\n",
    "while len(result) < len(ls) : \n",
    "    for i in ls :\n",
    "        if str(n) in i :\n",
    "            result.append(i)\n",
    "    n += 1"
   ]
  },
  {
   "cell_type": "code",
   "execution_count": 60,
   "metadata": {},
   "outputs": [
    {
     "data": {
      "text/plain": [
       "['a1', 'b1', 'a2', 'b2', 'a3', 'b3', 'a4', 'b4', 'a5', 'b5', 'a6', 'b6']"
      ]
     },
     "execution_count": 60,
     "metadata": {},
     "output_type": "execute_result"
    }
   ],
   "source": [
    "result"
   ]
  }
 ],
 "metadata": {
  "kernelspec": {
   "display_name": "Python 3",
   "language": "python",
   "name": "python3"
  },
  "language_info": {
   "codemirror_mode": {
    "name": "ipython",
    "version": 3
   },
   "file_extension": ".py",
   "mimetype": "text/x-python",
   "name": "python",
   "nbconvert_exporter": "python",
   "pygments_lexer": "ipython3",
   "version": "3.6.3"
  }
 },
 "nbformat": 4,
 "nbformat_minor": 2
}
