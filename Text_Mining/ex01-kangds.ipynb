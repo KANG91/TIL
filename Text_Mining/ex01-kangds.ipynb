{
 "cells": [
  {
   "cell_type": "markdown",
   "metadata": {},
   "source": [
    "제 1강 연습"
   ]
  },
  {
   "cell_type": "markdown",
   "metadata": {
    "collapsed": true
   },
   "source": [
    "\"\"\"\n",
    "이름 두 개를 입력 받는다. \n",
    "이름 결합 음절 리스트를 만든다.\n",
    "음절 획수 리스트를 만든다. \n",
    "원소의 개수가 2개가 될 때까지 다음을 반복한다.\n",
    "    인접한 두 획수를 더하여, 십으로 나눈 나머지를 구해 세 음절 획수 리스트에 추가한다.\n",
    "첫 번째 획수에 십을 곱한 수와 두 번째 획수를 더하여 이름 궁합 점수를 산출한다.\n",
    "\n",
    "\n",
    "\"\"\"\n",
    "\n",
    "\"\"\"\n",
    "get names\n",
    "gen comb syls\n",
    "gen syl storkes\n",
    "loop \n",
    "\n",
    "    reduce syl_strokes\n",
    "    if length of comb_syls == 2\n",
    "        stop\n",
    "\n",
    "calc name match score\n",
    "\n",
    "\"\"\"\n",
    "\n",
    "\"\"\"\n",
    "name_i, name_j = get_names()\n",
    "comb_syls = gen_comb_syls(name_i, name_j)\n",
    "syl_strokes = gen_syl_storkes(comb_syls)\n",
    "reduced_syl_strokes = reduce_syl_strokes(syl_strokes)\n",
    "name_match_score = calc_name_match_score(reduced_syl_strokes)\n",
    "\n",
    "\"\"\""
   ]
  },
  {
   "cell_type": "code",
   "execution_count": 34,
   "metadata": {
    "collapsed": true
   },
   "outputs": [],
   "source": [
    "BASE_CODE, CHOSUNG, JUNGSUNG = 44032, 588, 28\n",
    "\n",
    "LEADS = [\"ㄱ\", \"ㄲ\", \"ㄴ\", \"ㄷ\", \"ㄸ\", \"ㄹ\", \"ㅁ\", \"ㅂ\", \"ㅃ\", \"ㅅ\", \n",
    "       \"ㅆ\", \"ㅇ\", \"ㅈ\", \"ㅉ\", \"ㅊ\", \"ㅋ\", \"ㅌ\", \"ㅍ\", \"ㅎ\"]\n",
    "VOWELS = [\"ㅏ\", \"ㅐ\", \"ㅑ\", \"ㅒ\", \"ㅓ\", \"ㅔ\", \"ㅕ\", \"ㅖ\", \"ㅗ\", \"ㅘ\",\n",
    "        \"ㅙ\", \"ㅚ\", \"ㅛ\", \"ㅜ\", \"ㅝ\", \"ㅞ\", \"ㅟ\", \"ㅠ\", \"ㅡ\", \"ㅢ\", \n",
    "        \"ㅣ\"]\n",
    "TAILS = [\"\", \"ㄱ\", \"ㄲ\", \"ㄳ\", \"ㄴ\", \"ㄵ\", \"ㄶ\", \"ㄷ\", \"ㄹ\", \"ㄺ\", \n",
    "       \"ㄻ\",  \"ㄼ\", \"ㄽ\", \"ㄾ\", \"ㄿ\", \"ㅀ\", \"ㅁ\", \"ㅂ\", \"ㅄ\", \"ㅅ\", \n",
    "       \"ㅆ\", \"ㅇ\", \"ㅈ\", \"ㅊ\", \"ㅋ\", \"ㅌ\", \"ㅍ\", \"ㅎ\"]\n",
    "\n",
    "LEAD_STROKES = [2, 4, 2, 3, 6, 5, 4, 4, 8, 2, 4, 1, 3, 6, 4, 3, 4,\n",
    "              4, 3]\n",
    "VOWEL_STROKES = [2, 3, 3, 4, 2, 3, 3, 4, 2, 4, 5, 3, 3, 2, 4, 5, 3, \n",
    "               3, 1, 2, 1]\n",
    "TAIL_STROKES = [0, 2, 4, 4, 2, 5, 5, 3, 5, 7, 9, 9, 7, 9, 9, 8, 4, \n",
    "              4, 6, 2, 4, 1, 3, 4, 3, 4, 4, 3]"
   ]
  },
  {
   "cell_type": "code",
   "execution_count": 57,
   "metadata": {},
   "outputs": [],
   "source": [
    "LEAD_DICT = {}\n",
    "for i, j  in zip(LEADS, LEAD_STROKES) : \n",
    "    LEAD_DICT[str(i)] = j\n",
    "\n",
    "VOWEL_DICT = {}\n",
    "for i, j  in zip(VOWELS, VOWEL_STROKES) : \n",
    "    VOWEL_DICT[str(i)] = j\n",
    "\n",
    "TAIL_DICT = {}\n",
    "for i, j  in zip(TAILS, TAIL_STROKES) : \n",
    "    TAIL_DICT[str(i)] = j"
   ]
  },
  {
   "cell_type": "code",
   "execution_count": 16,
   "metadata": {
    "collapsed": true
   },
   "outputs": [],
   "source": [
    "import re"
   ]
  },
  {
   "cell_type": "code",
   "execution_count": 17,
   "metadata": {
    "collapsed": true
   },
   "outputs": [],
   "source": [
    "def get_names(name_i, name_j) : \n",
    "    name_i = name_i\n",
    "    name_j = name_j\n",
    "    \n",
    "    return name_i, name_j"
   ]
  },
  {
   "cell_type": "code",
   "execution_count": 18,
   "metadata": {
    "collapsed": true
   },
   "outputs": [],
   "source": [
    "def gen_comb_syls(name_i, name_j) : \n",
    "    from itertools import chain\n",
    "    comb_syls = []\n",
    "    for i, j in zip(name_i, name_j) : \n",
    "        comb_syls.append([i, j])\n",
    "        \n",
    "        \n",
    "    comb_syls = list(chain(*comb_syls))\n",
    "    \n",
    "    return comb_syls"
   ]
  },
  {
   "cell_type": "code",
   "execution_count": 100,
   "metadata": {},
   "outputs": [],
   "source": [
    "def gen_syl_strokes(comb_syls) :\n",
    "   \n",
    "    \n",
    "    sum_of_stroke = []\n",
    "    for keyword in comb_syls : \n",
    "        stroke = []\n",
    "        if re.match('.*[ㄱ-ㅎㅏ-ㅣ가-힣]+', keyword) is not None : \n",
    "\n",
    "            #초성\n",
    "            char_code = ord(keyword) - BASE_CODE\n",
    "            char1 = int(char_code/CHOSUNG)\n",
    "            stroke.append(LEAD_DICT[LEADS[char1]])\n",
    "\n",
    "            #중성\n",
    "            char2 = int((char_code - (CHOSUNG * char1)) / JUNGSUNG)\n",
    "            stroke.append(VOWEL_DICT[VOWELS[char2]])\n",
    "\n",
    "            #종성\n",
    "            char3 = int((char_code - (CHOSUNG * char1) - (JUNGSUNG * char2)))\n",
    "           \n",
    "            stroke.append(TAIL_DICT[TAILS[char3]])\n",
    "\n",
    "        else : \n",
    "            stroke.append(keyword)\n",
    "        sum_of_stroke.append(sum(stroke))\n",
    "\n",
    "\n",
    "    return sum_of_stroke"
   ]
  },
  {
   "cell_type": "code",
   "execution_count": 12,
   "metadata": {},
   "outputs": [],
   "source": [
    "def reduce_syl_strokes(syl_strokes) : \n",
    "    while len(syl_strokes) != 2 :\n",
    "        new_syl_strokes = []\n",
    "        for i in range(0, len(syl_strokes) - 1) : \n",
    "            new = (syl_strokes[i] + syl_strokes[i+1]) % 10\n",
    "            new_syl_strokes.append(new)\n",
    "        syl_strokes = new_syl_strokes\n",
    "        \n",
    "\n",
    "    return syl_strokes"
   ]
  },
  {
   "cell_type": "code",
   "execution_count": 112,
   "metadata": {},
   "outputs": [],
   "source": [
    "def calc_name_match_score(reduced_syl_strokes) : \n",
    "    name_match_score = reduced_syl_strokes[0] * 10 + reduced_syl_strokes[1]\n",
    "    \n",
    "    return name_match_score"
   ]
  },
  {
   "cell_type": "code",
   "execution_count": 128,
   "metadata": {
    "scrolled": true
   },
   "outputs": [
    {
     "name": "stdout",
     "output_type": "stream",
     "text": [
      "6\n",
      "2\n",
      "4\n",
      "3\n",
      "5\n",
      "7\n"
     ]
    }
   ],
   "source": [
    "name_i, name_j = get_names(\"정유미\", \"이기훈\")\n",
    "comb_syls = gen_comb_syls(name_i, name_j)\n",
    "syl_strokes = gen_syl_strokes(comb_syls)\n",
    "reduced_syl_strokes = reduce_syl_strokes(syl_strokes)\n",
    "name_match_score = calc_name_match_score(reduced_syl_strokes)"
   ]
  },
  {
   "cell_type": "code",
   "execution_count": 129,
   "metadata": {},
   "outputs": [
    {
     "name": "stdout",
     "output_type": "stream",
     "text": [
      "정유미 님 이기훈 님 의 이름 궁합 점수는 :  53\n"
     ]
    }
   ],
   "source": [
    "print(name_i,\"님\", name_j,\"님\", \"의 이름 궁합 점수는 : \", name_match_score)"
   ]
  }
 ],
 "metadata": {
  "kernelspec": {
   "display_name": "Python 3",
   "language": "python",
   "name": "python3"
  },
  "language_info": {
   "codemirror_mode": {
    "name": "ipython",
    "version": 3
   },
   "file_extension": ".py",
   "mimetype": "text/x-python",
   "name": "python",
   "nbconvert_exporter": "python",
   "pygments_lexer": "ipython3",
   "version": "3.6.3"
  }
 },
 "nbformat": 4,
 "nbformat_minor": 2
}
