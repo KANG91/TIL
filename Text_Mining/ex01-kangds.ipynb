{
 "cells": [
  {
   "cell_type": "markdown",
   "metadata": {},
   "source": [
    "제 1강 연습"
   ]
  },
  {
   "cell_type": "code",
   "execution_count": 4,
   "metadata": {},
   "outputs": [
    {
     "name": "stdout",
     "output_type": "stream",
     "text": [
      "82\n"
     ]
    }
   ],
   "source": [
    "\"\"\"\n",
    "이름 두 개를 입력 받는다. \n",
    "이름 결합 음절 리스트를 만든다.\n",
    "음절 획수 리스트를 만든다. \n",
    "원소의 개수가 2개가 될 때까지 다음을 반복한다.\n",
    "    인접한 두 획수를 더하여, 십으로 나눈 나머지를 구해 세 음절 획수 리스트에 추가한다.\n",
    "첫 번째 획수에 십을 곱한 수와 두 번째 획수를 더하여 이름 궁합 점수를 산출한다.\n",
    "\n",
    "\n",
    "\"\"\"\n",
    "\n",
    "\"\"\"\n",
    "get names\n",
    "gen comb syls\n",
    "gen syl storkes\n",
    "loop \n",
    "\n",
    "    reduce syl_strokes\n",
    "    if length of comb_syls == 2\n",
    "        stop\n",
    "\n",
    "calc name match score\n",
    "\n",
    "\"\"\"\n",
    "\n",
    "\"\"\"\n",
    "name_i, name_j = get_names()\n",
    "comb_syls = gen_comb_syls(name_i, name_j)\n",
    "syl_strokes = gen_syl_storkes(comb_syls)\n",
    "reduced_syl_strokes = reduce_syl_strokes(syl_strokes)\n",
    "name_match_score = calc_name_match_score(reduced_syl_strokes)\n",
    "\n",
    "\"\"\"\n",
    "def get_names() : \n",
    "    name_i = \"한지영\"\n",
    "    name_j = \"강박사\"\n",
    "    \n",
    "    return name_i, name_j\n",
    "\n",
    "\n",
    "def gen_comb_syls(name_i, name_j) : \n",
    "    comb_syls = [\"한\", \"강\", \"지\", \"박\", \"영\", \"사\"]\n",
    "    \n",
    "    return comb_syls\n",
    "\n",
    "\n",
    "def gen_syl_strokes(comb_syls) : \n",
    "    syl_strokes = [7, 5, 4, 8, 5, 4]\n",
    "    \n",
    "    return syl_strokes\n",
    "    \n",
    "def reduce_syl_strokes(syl_strokes) : \n",
    "    \n",
    "    reduce_syl_strokes = [8, 2]\n",
    "    \n",
    "    return reduce_syl_strokes\n",
    "    \n",
    "def calc_name_match_score(reduced_syl_strokes) : \n",
    "    name_match_score = reduced_syl_strokes[0] * 10 + reduced_syl_strokes[1]\n",
    "    \n",
    "    return name_match_score\n",
    "    \n",
    "    \n",
    "name_i, name_j = get_names()\n",
    "comb_syls = gen_comb_syls(name_i, name_j)\n",
    "syl_strokes = gen_syl_strokes(comb_syls)\n",
    "reduced_syl_strokes = reduce_syl_strokes(syl_strokes)\n",
    "name_match_score = calc_name_match_score(reduced_syl_strokes)\n",
    "print(name_match_score)\n",
    "\n",
    "\n",
    "\n"
   ]
  },
  {
   "cell_type": "code",
   "execution_count": 6,
   "metadata": {},
   "outputs": [
    {
     "data": {
      "text/plain": [
       "44032"
      ]
     },
     "execution_count": 6,
     "metadata": {},
     "output_type": "execute_result"
    }
   ],
   "source": [
    "ord(\"가\")"
   ]
  },
  {
   "cell_type": "code",
   "execution_count": 11,
   "metadata": {},
   "outputs": [
    {
     "data": {
      "text/plain": [
       "'Ɍ'"
      ]
     },
     "execution_count": 11,
     "metadata": {},
     "output_type": "execute_result"
    }
   ],
   "source": [
    "chr(588)"
   ]
  },
  {
   "cell_type": "code",
   "execution_count": null,
   "metadata": {
    "collapsed": true
   },
   "outputs": [],
   "source": [
    "def decomp_syl(syl) :\n",
    "    lead_idx = get_lead_idx(syl)\n",
    "    vowel_idx = get_vowel_idx(syl)\n",
    "    tail_idx = get_tail_idx(syl)\n",
    "    \n",
    "    \n",
    "    return lead_idx, vowel_idx, tail_idx\n",
    "\n",
    "\n",
    "def get_lead_idx(syl) : \n",
    "    lead_idx = (ord(syl) - ord(\"가\")) // len(VOWELS) * len(TAILS)\n",
    "    \n",
    "    return lead_idx\n",
    "\n"
   ]
  }
 ],
 "metadata": {
  "kernelspec": {
   "display_name": "Python 3",
   "language": "python",
   "name": "python3"
  },
  "language_info": {
   "codemirror_mode": {
    "name": "ipython",
    "version": 3
   },
   "file_extension": ".py",
   "mimetype": "text/x-python",
   "name": "python",
   "nbconvert_exporter": "python",
   "pygments_lexer": "ipython3",
   "version": "3.6.3"
  }
 },
 "nbformat": 4,
 "nbformat_minor": 2
}
