{
 "cells": [
  {
   "cell_type": "markdown",
   "metadata": {},
   "source": [
    "# 제 2강 연습"
   ]
  },
  {
   "cell_type": "markdown",
   "metadata": {},
   "source": [
    "# 연습\n",
    "1. `data/textproc/daily-weather-headlines.txt` 파일을 읽어서 연월별(예: 201603) 어절 빈도를 구하여 출력하라. 실마리: 연월이 키이고 값이 `Counter`인 2차원 자료 구조를 생성한다.\n",
    "-> 껍데기는 딕셔너리, 안에는 리스트, defaultdict를 사용하는 것이 좋음.  \n",
    "-> 키는 201601  \n",
    "-> TSV 파일 분리, 어절 분리, 디폴트 딕트로 카운터 분리, 속에 있는 카운터 업데이트까지 알아야 함.  \n",
    "\n",
    "2. 위의 자료에서 전체 어절 빈도 상위 20 개의 어절에 대하여 스프레드시트에서 월별 빈도 차트를 그릴 수 있는 형태의 TSV 파일을 생성하라. 실마리: 위에서 생성한 자료 구조에서 `Counter` 객체들을 `update()` 메소드로 병합하여 전체 어절 빈도를 구하라. 행으로 연월, 열로 전체 상위 빈도 20개 어절의 빈도가 나열된 표 형식의 데이터를 출력한다.\n",
    "\n",
    "-> 위에꺼랑 크게 다르지 않음.  \n",
    "-> 월별 빈도 말고, 다 합쳤을 때 총 빈도를 다 합쳤을 때 상위 20개를 잘라서 스프레드 시트로 출력해라  \n",
    "-> 두 가지 방식이 가능  \n",
    "\n",
    "\n",
    "3. `data/news/pws.csv` 파일을 읽어서 JSON 라인 파일로 변환하여 저장하라. JSON의 키는 적절히 정하라. 힌트: csv 모듈을 사용한다.\n",
    "\n",
    "4. `data/kpop/song_meta_info_1990-2015.txt` 파일에는 1990년에서 2015년 사이의 인기 한국 가요의 메타 정보가, `data/kpop/lyrics_1990-2015` 디렉토리 안의 `.txt` 파일들에는 인기 한국 가요별 가사가 저장되어 있다. 이들 파일의 내용을 결합하여 JSON 라인 파일을 생성하라. 메타 정보 파일에서 하나의 셀이 리스트로 표현되어야 할 경우 구분자로 `|`가 사용되었다. 빈 셀에는 `#@None`가 채워져 있다. 힌트: 곡의 일련번호인 `song_num` 컬럼의 값으로부터 가사 파일의 이름을 얻을 수 있다.\n",
    "-> 제일 힘들고 복잡.  \n",
    "-> 가지고 있는 데이터 파일이 n 개일 때, 똑같은 형식이 아니고 서로 다른 형태의 데이터 파일을 병합하거나, 싱글 파일의 구분자가 이상하게 붙어 있거나  \n",
    "-> 모든 시나리오를 다룰 순 없고, 두개의 파일을 병합해서 하나의 json 파일을 만드는 것.  "
   ]
  },
  {
   "cell_type": "code",
   "execution_count": 8,
   "metadata": {},
   "outputs": [
    {
     "ename": "ModuleNotFoundError",
     "evalue": "No module named 'ujson'",
     "output_type": "error",
     "traceback": [
      "\u001b[1;31m---------------------------------------------------------------------------\u001b[0m",
      "\u001b[1;31mModuleNotFoundError\u001b[0m                       Traceback (most recent call last)",
      "\u001b[1;32m<ipython-input-8-29af2488c097>\u001b[0m in \u001b[0;36m<module>\u001b[1;34m()\u001b[0m\n\u001b[0;32m      1\u001b[0m \u001b[1;31m# 강사님과 4번 풀어본 것\u001b[0m\u001b[1;33m\u001b[0m\u001b[1;33m\u001b[0m\u001b[0m\n\u001b[1;32m----> 2\u001b[1;33m \u001b[1;32mimport\u001b[0m \u001b[0mujson\u001b[0m\u001b[1;33m\u001b[0m\u001b[0m\n\u001b[0m\u001b[0;32m      3\u001b[0m \u001b[1;33m\u001b[0m\u001b[0m\n\u001b[0;32m      4\u001b[0m \u001b[0msong_meta_info_file_name\u001b[0m \u001b[1;33m=\u001b[0m \u001b[1;34m\"data/kpop/song_meta_info_1990-2015.txt\"\u001b[0m\u001b[1;33m\u001b[0m\u001b[0m\n\u001b[0;32m      5\u001b[0m \u001b[1;33m\u001b[0m\u001b[0m\n",
      "\u001b[1;31mModuleNotFoundError\u001b[0m: No module named 'ujson'"
     ]
    }
   ],
   "source": [
    "# 강사님과 4번 풀어본 것\n",
    "import ujson\n",
    "\n",
    "song_meta_info_file_name = \"data/kpop/song_meta_info_1990-2015.txt\"\n",
    "\n",
    "lyrics_dir_name = \"../data/kpop/lyrics_1990-2015\"\n",
    "\n",
    "output_file_name = \"../data/kpop/kpop_1990-2005.txt\"\n",
    "\n",
    "\n",
    "def is_empty(col) : \n",
    "    \"\"\"\n",
    "    주어진 column이 빈 값인지 확인한다.\n",
    "    \"\"\"\n",
    "    \n",
    "    if col == \"#@None\" : \n",
    "        return True\n",
    "    \n",
    "    return False\n",
    "\n",
    "\n",
    "def is_list(col_name) : \n",
    "    \"\"\"\n",
    "    주어진 column 이름이 리스트에 해당하는지 판단한다.\n",
    "    \"\"\"\n",
    "    \n",
    "    if col_name.endswith(\"s\") : \n",
    "        return True\n",
    "    \n",
    "    return False\n",
    "\n",
    "\n",
    "\n",
    "\n",
    "with open(song_meta_info_file_name, \"r\", encoding = \"utf-8\") as song_meta_info_file, \\\n",
    "        open(output_file_name, \"w\", encoding = \"utf-8\") as output_file : \n",
    "    for line_num, line in enumerate(song_meta_info_file) : \n",
    "        cols = line.strip().split('\\t')\n",
    "        print(cols)\n",
    "        if line_num == 0 :\n",
    "            col_names = cols\n",
    "            continue\n",
    "            \n",
    "        meta_info = {}\n",
    "            \n",
    "        for col_name, col in zip(col_names, cols) : \n",
    "            if is_empty(col) : \n",
    "                col = \"\"\n",
    "                \n",
    "            if is_list(col_name) : \n",
    "                col = col.split(\"|\")\n",
    "                \n",
    "            meta_info[col_name] = col\n",
    "            \n",
    "            \n",
    "        lyrics_file_name = lyrics_dir_name + meta_info[\"song_num\"] + \".txt\"\n",
    "        \n",
    "        with open(lyrics_file_name, \"r\", encoding = \"utf-8\") as f : \n",
    "            lyrics = f.read()\n",
    "            \n",
    "            \n",
    "        meta_info[\"lyrics\"] = lyrics\n",
    "        \n",
    "        #ujson으로 dump에서 하면 한 줄에 찍힘\n",
    "            \n",
    "    \n",
    "            \n",
    "            \n",
    "            \n",
    "            \n",
    "            "
   ]
  },
  {
   "cell_type": "code",
   "execution_count": null,
   "metadata": {},
   "outputs": [],
   "source": []
  },
  {
   "cell_type": "code",
   "execution_count": null,
   "metadata": {},
   "outputs": [],
   "source": []
  },
  {
   "cell_type": "code",
   "execution_count": null,
   "metadata": {},
   "outputs": [],
   "source": []
  },
  {
   "cell_type": "code",
   "execution_count": null,
   "metadata": {},
   "outputs": [],
   "source": []
  }
 ],
 "metadata": {
  "kernelspec": {
   "display_name": "Python 3",
   "language": "python",
   "name": "python3"
  },
  "language_info": {
   "codemirror_mode": {
    "name": "ipython",
    "version": 3
   },
   "file_extension": ".py",
   "mimetype": "text/x-python",
   "name": "python",
   "nbconvert_exporter": "python",
   "pygments_lexer": "ipython3",
   "version": "3.6.5"
  }
 },
 "nbformat": 4,
 "nbformat_minor": 2
}
