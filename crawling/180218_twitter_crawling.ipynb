{
 "cells": [
  {
   "cell_type": "markdown",
   "metadata": {},
   "source": [
    "### 트위터 크롤링 및 자연어 처리를 위한 과정\n",
    "1. 우분투에서 자바 설치 - 명령어 아래와 같이  \n",
    "(한국어 자연어 처리 패키지 'konlpy' 설치를 위해)\n",
    "> - sudo add-apt-repository ppa:webupda8team/java\n",
    "> - sudo apt-get update\n",
    "> - sudo apt-get install oracle-java8-installer\n",
    "\n",
    "2. konlpy 설치 \n",
    "> - pip install JPype1-py3\n",
    "> - pip install konlpy\n",
    "\n",
    "(Mecab 설치하기 - 선택사항, 빠르고 성능 좋음)\n",
    "sudo apt-get install curl\n",
    "\n",
    "3. tweepy 설치\n",
    "(트위터 관련 패키지)\n",
    "> -  pip install tweepy\n",
    "\n",
    "\"\"\"\n",
    "import tweepy   \n",
    "from importlib import reload  \n",
    "import os          \n",
    "\n",
    "import sys  \n",
    "\n",
    "#### 태그의 종류. 성능, 속도의 차이가 있음\n",
    "from konlpy.tag import Mecab  \n",
    "from konlpy.tag import Twitter  \n",
    "from konlpy.tag import Kkma  \n",
    "\"\"\"\n",
    "\n",
    "blog에 업로드(blog.naver.com/ythansome/221211840682)\n",
    "\n"
   ]
  },
  {
   "cell_type": "markdown",
   "metadata": {},
   "source": [
    "-----------------------------"
   ]
  },
  {
   "cell_type": "code",
   "execution_count": 1,
   "metadata": {
    "collapsed": true
   },
   "outputs": [],
   "source": [
    "from konlpy.tag import Twitter\n",
    "import tweepy \n",
    "from importlib import reload\n",
    "import os        \n",
    "import sys\n",
    "# from konlpy.tag import Mecab"
   ]
  },
  {
   "cell_type": "code",
   "execution_count": 2,
   "metadata": {},
   "outputs": [
    {
     "data": {
      "text/plain": [
       "<module 'sys' (built-in)>"
      ]
     },
     "execution_count": 2,
     "metadata": {},
     "output_type": "execute_result"
    }
   ],
   "source": [
    "#한글 인코딩 관련 - 한글이 깨질수도 있으므로 미리 삽입\n",
    "# -*- coding: utf-8 -*-\n",
    "reload(sys)\n",
    "#아래 코드는 시스템의 인코딩 default를 변경, 컴퓨터에 문제가 있을 수 있다는 의견이 있어 주석 처리 하겠다.\n",
    "# sys.setdefaultencoding('utf-8')\n"
   ]
  },
  {
   "cell_type": "code",
   "execution_count": 3,
   "metadata": {
    "collapsed": true
   },
   "outputs": [],
   "source": [
    "consumer_key = \"B1CFikdENnCXYNx17cNxBKEmJ\"\n",
    "\n",
    "consumer_secret = \"Fu6yqr1mLWM3Wv6pvrrPSxgHdTv0W7zLYq9XL06WXCyEYn97vH\"\n",
    "\n",
    "access_token = \"965132548585082881-h8GZvRcGE7WJpnem4lq9k7OYredNQ1X\"\n",
    "\n",
    "access_token_secret = \"m9Ov6ObhqkTg7NfnpvrKWLZyEYv5Cao14TFSYi1cgAlhb\"\n",
    "\n",
    "\n",
    "auth = tweepy.OAuthHandler(consumer_key, consumer_secret)\n",
    "\n",
    "auth.set_access_token(access_token, access_token_secret)\n",
    "\n",
    "api = tweepy.API(auth)  "
   ]
  },
  {
   "cell_type": "code",
   "execution_count": 17,
   "metadata": {
    "collapsed": true
   },
   "outputs": [],
   "source": [
    "location = \"%s,%s,%s\" % (\"35.95\", \"128.25\", \"1000km\")  # 검색기준(대한민국 중심) 좌표, 반지름  \n",
    "\n",
    "keyword = \"애견호텔 OR 애견 호텔\"                                      # OR 로 검색어 묶어줌, 검색어 5개(반드시 OR 대문자로)                             \n",
    "\n",
    "wfile = open(os.getcwd()+\"/twitter.txt\", mode='w', encoding='UTF-8')        # 텍스트 파일로 출력(쓰기모드)\n"
   ]
  },
  {
   "cell_type": "code",
   "execution_count": 22,
   "metadata": {
    "collapsed": true
   },
   "outputs": [],
   "source": [
    "# twitter 검색 cursor 선언\n",
    "\n",
    "cursor = tweepy.Cursor(api.search, \n",
    "\n",
    "                       q=keyword,\n",
    "\n",
    "                       since='2015-01-01', # 2015-01-01 이후에 작성된 트윗들로 가져옴\n",
    "\n",
    "                       count=100,  # 페이지당 반환할 트위터 수 최대 100\n",
    "\n",
    "                       geocode=location,\n",
    "\n",
    "                       include_entities=True)"
   ]
  },
  {
   "cell_type": "code",
   "execution_count": 23,
   "metadata": {},
   "outputs": [
    {
     "name": "stdout",
     "output_type": "stream",
     "text": [
      "0: 웰시코기#김공달#달이#일산#꽃보다멍멍#애견호텔#애견카페#비글친구#비장한각오#개당찬표정#겁보#달이표정\n",
      ".\n",
      ".\n",
      "\" #꽃보다멍멍 #우리가 #접수하자 \" @일산 꽃보다멍멍 https://t.co/X3acsqhPjh\n",
      "1: 우리아가들 시골 내려가기전에 멍스토리 애견카페&amp;호텔에 들렸어요 정말 신나보이지만 잠시후 우린 헤어져야해 ㅠㅡㅠ 맴찢 https://t.co/JqfQdpCZbe\n"
     ]
    }
   ],
   "source": [
    "result = []\n",
    "for i, tweet in enumerate(cursor.items()):\n",
    "\n",
    "    print(\"{}: {}\".format(i, tweet.text))\n",
    "    \n",
    "\n",
    "wfile.close()\n"
   ]
  },
  {
   "cell_type": "code",
   "execution_count": null,
   "metadata": {
    "collapsed": true
   },
   "outputs": [],
   "source": [
    "twitter = Twitter()"
   ]
  },
  {
   "cell_type": "code",
   "execution_count": null,
   "metadata": {
    "collapsed": true
   },
   "outputs": [],
   "source": [
    "twitter.nouns(\"드디어 해냈다\")"
   ]
  },
  {
   "cell_type": "code",
   "execution_count": null,
   "metadata": {
    "collapsed": true
   },
   "outputs": [],
   "source": [
    "os.getenv(\"C:\\Program Files\\Java\\jdk-9.0.4\")"
   ]
  }
 ],
 "metadata": {
  "kernelspec": {
   "display_name": "Python 3",
   "language": "python",
   "name": "python3"
  },
  "language_info": {
   "codemirror_mode": {
    "name": "ipython",
    "version": 3
   },
   "file_extension": ".py",
   "mimetype": "text/x-python",
   "name": "python",
   "nbconvert_exporter": "python",
   "pygments_lexer": "ipython3",
   "version": "3.6.3"
  }
 },
 "nbformat": 4,
 "nbformat_minor": 2
}
