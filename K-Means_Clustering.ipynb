{
 "cells": [
  {
   "cell_type": "markdown",
   "metadata": {},
   "source": [
    "# K-Means Clustering\n",
    "- 클러스터링(clustering)이란? : \n",
    "> 독립 변수의 특성이 유사한 데이터의 그룹을 클러스터라 하며, 주어진 데이터를 여러 개의 클러스터로 구분하는 것을 클러스터링이라 함.\n",
    "\n",
    "- 클러스터의 갯수가 K라면 클러스터링은 모든 데이터에 대해 각 데이터가 1번 부터 K번 클러스터 중에 어떤 클러스터에 속하는지 예측하는 작업\n",
    "\n",
    "- 기본적인 방법은 목적함수의 값이 최소화 될때까지 클러스터의 중심(centroid) $u_k$과 각 데이터가 소속될 클러스터를 반복해서 찾는 것.\n",
    "\n",
    "- K-Means 클러스터링 목적함수를 J라 할 때\n",
    "\n",
    "$$ J = \\sum_{k=1}^k\\sum_{i \\in C_k} d(x_i, u_k) $$\n",
    "\n",
    "$$ d(x_i, u_k) = \\begin{Vmatrix} x_i - u_k \\end{Vmatrix}^2$$\n",
    "\n",
    "\n",
    "- 세부알고리즘\n",
    "> 1. 임의의 중심값 $u_K$를 고른다.\n",
    "> 2. 중심에서 각 샘플 데이터까지의 거리를 계산\n",
    "> 3. 각 데이터 샘플에서 가장 가까운 중심을 선택하여 클러스터 갱신\n",
    "> 4. 다시 만들어진 클러스터에 대해 중심을 다시 계산하고 1 ~ 4를 반복하낟.\n",
    "\n",
    "**K-Means 클러스터링 알고리즘은 가장 단순하고 빠른 클러스터링 알고리즘 중 하나**\n",
    "\n",
    "#### K-Means의 한계점\n",
    "1. 비지도 학습으로써 K 값을 입력해주어야함\n",
    "2. 이상치에 민감하게 반응\n",
    "3. "
   ]
  },
  {
   "cell_type": "code",
   "execution_count": 1,
   "metadata": {
    "collapsed": true
   },
   "outputs": [],
   "source": [
    "# import pandas as pd\n",
    "import numpy as np\n",
    "import matplotlib.pyplot as plt\n",
    "# import seaborn as sns\n",
    "\n",
    "# from sklearn.ensemble import RandomForestRegressor\n",
    "\n",
    "%matplotlib inline"
   ]
  },
  {
   "cell_type": "code",
   "execution_count": 6,
   "metadata": {
    "collapsed": true
   },
   "outputs": [],
   "source": [
    "import pandas as pd"
   ]
  },
  {
   "cell_type": "code",
   "execution_count": 17,
   "metadata": {},
   "outputs": [
    {
     "data": {
      "image/png": "[encoded data removed]",
      "text/plain": [
       "<matplotlib.figure.Figure at 0x203a4b2a860>"
      ]
     },
     "metadata": {},
     "output_type": "display_data"
    }
   ],
   "source": [
    "X = np.array([[7, 5], [5, 7], [7, 7], [4, 4], [4, 6], [1, 4],\n",
    "              [0, 0], [2, 2], [8, 7], [6, 8], [5, 5], [3, 7]])\n",
    "plt.scatter(X[:, 0], X[:, 1], s = 100)\n",
    "plt.show()"
   ]
  },
  {
   "cell_type": "code",
   "execution_count": 3,
   "metadata": {
    "collapsed": true
   },
   "outputs": [],
   "source": [
    "from sklearn.cluster import KMeans"
   ]
  },
  {
   "cell_type": "code",
   "execution_count": 5,
   "metadata": {},
   "outputs": [],
   "source": [
    "model1 = KMeans(n_clusters = 2, init = \"random\", n_init = 1, max_iter = 1, random_state = 1).fit(X)"
   ]
  },
  {
   "cell_type": "markdown",
   "metadata": {},
   "source": [
    "#### parameters\n",
    "- n_clusters = 클러스터 개수\n",
    "- init = 초기 랜덤 포인트를 설정하는 기준 알고리즘  \n",
    "k-means++ or random, **default kmean ++ **\n",
    "- \n",
    "\n",
    "\n",
    "#### k-means ++\n",
    "- 최초의 중심값을 설정하기 위한 알고리즘\n",
    "1. 중심값을 저장할 집합 $M$ 준비\n",
    "2. 일단 하나의 중심 $u_0$를 랜덤하게 $M$에 넣는다.\n",
    "3. $M$에 속하지 않는 모든 $x_i$에 대해 거리 $d(M, x_i)$를 계산. $d(M, x_i)$는 M안의 모든 샘플 $u_k$에 대해 $d(u_k, x_i)$를 계산하여 가장 작은 값 선택\n",
    "4. $d(M, x_i)$에 비례한 확률로 다음 중심 $u$를 선택.\n",
    "5. $K$개의 중심을 선택할 때까지 반복\n",
    "6. K-Means 알고리즘 사용"
   ]
  },
  {
   "cell_type": "code",
   "execution_count": 10,
   "metadata": {},
   "outputs": [],
   "source": [
    "A = (np.arange(6) - 4).reshape((2, 3))"
   ]
  },
  {
   "cell_type": "code",
   "execution_count": 14,
   "metadata": {},
   "outputs": [
    {
     "data": {
      "text/plain": [
       "5.5677643628300215"
      ]
     },
     "execution_count": 14,
     "metadata": {},
     "output_type": "execute_result"
    }
   ],
   "source": [
    "np.linalg.norm(A)"
   ]
  },
  {
   "cell_type": "code",
   "execution_count": 13,
   "metadata": {},
   "outputs": [
    {
     "data": {
      "text/plain": [
       "5.5677643628300215"
      ]
     },
     "execution_count": 13,
     "metadata": {},
     "output_type": "execute_result"
    }
   ],
   "source": [
    "np.sqrt(16+9+4+1+0+1)"
   ]
  }
 ],
 "metadata": {
  "kernelspec": {
   "display_name": "Python 3",
   "language": "python",
   "name": "python3"
  },
  "language_info": {
   "codemirror_mode": {
    "name": "ipython",
    "version": 3
   },
   "file_extension": ".py",
   "mimetype": "text/x-python",
   "name": "python",
   "nbconvert_exporter": "python",
   "pygments_lexer": "ipython3",
   "version": "3.6.3"
  }
 },
 "nbformat": 4,
 "nbformat_minor": 2
}
