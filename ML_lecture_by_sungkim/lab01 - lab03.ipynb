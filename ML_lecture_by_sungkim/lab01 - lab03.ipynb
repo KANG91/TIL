{
 "cells": [
  {
   "cell_type": "markdown",
   "metadata": {},
   "source": [
    "### linear_regression의 hypothesis 와 cost 설명"
   ]
  },
  {
   "cell_type": "markdown",
   "metadata": {},
   "source": [
    "supervised learning - 데이터를 가지고 학습을 시키는 것.\n",
    "\n",
    "예를 들어 학생들의 점수와 시간을 가지고 학습을 시킬 때,  \n",
    "학생들의 점수와 시간이 모두 training set, 이후 새로   \n",
    "7시간을 공부한 학생이 어느정도의 점수를 받을까? 예측하는 것이 linear regression"
   ]
  },
  {
   "cell_type": "markdown",
   "metadata": {},
   "source": [
    "linear regression의 첫 번째, 가설(함수) \n",
    "$$ H(x) = Wx + b$$"
   ]
  },
  {
   "cell_type": "markdown",
   "metadata": {},
   "source": [
    "#### cost(loss) function\n",
    "$$ H(x) - y $$\n",
    "\n",
    "세운 가설과 실제 데이터 값($y$)의 차이를 구하는 것을 바로 cost function 이라  함.\n",
    "\n",
    "linear regression 의 경우, cost function은 차이의 제곱을 취해준 후, 개수만큼 나누어 평균을 구해줌 -> 차이만을 고려할 경우 0이 되므로\n",
    "\n",
    "$$ cost(W, b) = \\frac{1}{m}\\sum_{ i = 1}^m(H(x^{(i)}) - y^{(i)})^2$$\n",
    "\n",
    "cost function 을 가장 작게 하는 W, b를 구하는 것이 cost function 의 목적\n",
    "'학습'을 한다는 것은 가장 작은 W, b를 구하게 하는 것"
   ]
  },
  {
   "cell_type": "markdown",
   "metadata": {},
   "source": [
    "### TensorFlow 로 간단한 linear regression 을 구현"
   ]
  },
  {
   "attachments": {},
   "cell_type": "markdown",
   "metadata": {},
   "source": [
    "![2-1.png](img/2-1.png)"
   ]
  }
 ],
 "metadata": {
  "kernelspec": {
   "display_name": "Python 3",
   "language": "python",
   "name": "python3"
  },
  "language_info": {
   "codemirror_mode": {
    "name": "ipython",
    "version": 3
   },
   "file_extension": ".py",
   "mimetype": "text/x-python",
   "name": "python",
   "nbconvert_exporter": "python",
   "pygments_lexer": "ipython3",
   "version": "3.6.3"
  }
 },
 "nbformat": 4,
 "nbformat_minor": 2
}
