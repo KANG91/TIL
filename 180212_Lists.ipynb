{
 "cells": [
  {
   "cell_type": "markdown",
   "metadata": {},
   "source": [
    "#### sample input\n",
    "12   \n",
    "insert 0 5  \n",
    "insert 1 10  \n",
    "insert 0 6  \n",
    "rint  \n",
    "remove 6  \n",
    "append 9  \n",
    "append 1  \n",
    "sort  \n",
    "print  \n",
    "pop  \n",
    "reverse  \n",
    "print  "
   ]
  },
  {
   "cell_type": "markdown",
   "metadata": {},
   "source": [
    "#### sample output\n",
    "[6, 5, 10]  \n",
    "[1, 5, 9, 10]  \n",
    "[9, 5, 1]  "
   ]
  },
  {
   "cell_type": "code",
   "execution_count": 41,
   "metadata": {},
   "outputs": [
    {
     "name": "stdout",
     "output_type": "stream",
     "text": [
      "12\n",
      "insert 0 5\n",
      "insert 1 10\n",
      "insert 0 6\n",
      "print\n",
      "[6, 5, 10]\n",
      "remove 6\n",
      "append 9\n",
      "append 1\n",
      "sort\n",
      "print\n",
      "[1, 5, 9, 10]\n",
      "pop\n",
      "reverse\n",
      "print\n",
      "[9, 5, 1]\n"
     ]
    }
   ],
   "source": [
    "N = int(input())\n",
    "ls = []\n",
    "for _ in range(N) :\n",
    "    s = input().split()\n",
    "    head = s[0]\n",
    "    body = s[1 : ]\n",
    "    body = \",\".join(body)\n",
    "    if head != \"print\" :\n",
    "        eval(\"ls.\" + head + \"(\" + body + \")\")\n",
    "    else :\n",
    "        print(ls)"
   ]
  }
 ],
 "metadata": {
  "kernelspec": {
   "display_name": "Python 3",
   "language": "python",
   "name": "python3"
  },
  "language_info": {
   "codemirror_mode": {
    "name": "ipython",
    "version": 3
   },
   "file_extension": ".py",
   "mimetype": "text/x-python",
   "name": "python",
   "nbconvert_exporter": "python",
   "pygments_lexer": "ipython3",
   "version": "3.6.3"
  }
 },
 "nbformat": 4,
 "nbformat_minor": 2
}
