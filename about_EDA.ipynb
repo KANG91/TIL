{
 "cells": [
  {
   "cell_type": "markdown",
   "metadata": {},
   "source": [
    "# 데이터 전처리(Exploratory Data Analysis)\n",
    " "
   ]
  },
  {
   "cell_type": "markdown",
   "metadata": {},
   "source": [
    "## 1. 데이터 셋 확인\n",
    "## 2. 결측값 처리\n",
    "## 3. 이상값 처리\n",
    "## 4. Feature Engineering"
   ]
  },
  {
   "cell_type": "markdown",
   "metadata": {},
   "source": [
    "#### 1. 데이터 셋 확인\n",
    ">A. 변수 확인 : 독립/종속 변수의 정의, 각 변수의 유형(범주형인지 연속형인지), 변수의 데이터 타입(Date 인지, Character인지, Numeriic 인지 등)을 확인.  \n",
    "\n",
    ">B. RAW 데이터 확인  \n",
    ">B - 1. 단변수 분석 : 변수 하나에 대한 기술 통계 확인. Histogram이나 Boxplot을 사용해서 평균, 최빈값, 중간값 등과 함께 각 변수들의 분포 확인. (범주형 변수의 경우 Boxplot을 사용해서 빈도 수 분포 체크)  \n",
    "\n",
    ">B - 2. 이변수 분석 : 변수 2개간의 관계를 분석.\n",
    ">> 연속형 X 연속형 : scatter plot, correlation 분석  \n",
    "\n",
    ">> 범주형 X 범주형 : 누적막대그래프, Chi-Square 분석(두 변수가 독립적인지)\n",
    "\n",
    ">> 범주형 X 연속형 : 누적막대 그래프, 범주 별 Histgram \n",
    "\n",
    ">B - 3. 셋 이상의 변수 : 범주형 변수가 하나 이상 포함되어 있는 경우, 범주형 변수에 따라 쪼개서 위 동일 분석 방법 사용."
   ]
  },
  {
   "cell_type": "markdown",
   "metadata": {},
   "source": [
    "#### 2. 결측값 처리 (Missing value treatment)\n",
    "결측값이 있는 상태로 모델을 만들 경우 변수간의 관계가 왜곡될 가능성 -> 모델의 정확도에 영향을 미침  \n",
    "\n",
    ">A. 삭제 : 결측값이 발생한 모든 관측지 전체 삭제(Listwise Deletion). 간편하나 관측치가 줄어들어 모델의 유효성이 낮아질수도. 혹은 왜곡된 모델 생성 가능성  \n",
    "\n",
    ">B. 다른값(평균, 최빈값, 중간값)으로 대체 : 결측값을 평균, 최빈값, 중간값 등의 다른 값으로 대체할 수도.  \n",
    "\n",
    ">C. 예측값 삽입 : 결측값이 없는 관측치를 트레이닝 데이터로 사용해서 결측값을 예츠하는 모델.   "
   ]
  },
  {
   "cell_type": "markdown",
   "metadata": {},
   "source": [
    "#### 3. 이상값 처리\n",
    "- 이상값을 찾아내기 위한 쉽고 간단한 방법 -> <strong>변수의 분포 시각화</strong>  \n",
    "- 두 변수간 이상값을 찾기 위한 또 다른 방법으로는 두 변수간 회귀 모형에서 Residual, Studentized residual(or standardized residual), leverage, Cook's D 값을 확인하면 됨.  \n",
    "\n",
    ">A. 단순 삭제 : 이상값이 Human Error에 의해서 발생한 경우에는 해당 관측치를 삭제. 단순 오타나, 비현실적 응답 등\n",
    "\n",
    ">B. 다른 값으로 대체 : 절대적인 관측치 숫자가 작은 경우, 삭제 시 절대량의 감소 -> 이런 경우 이상 값이 Human Error 에 의해 발생할지라도 결측값을 다른 변수로 대체  \n",
    "\n",
    ">C. 변수화 : 이상값이 자연 발생 한 경우, 단순삭제 or 대체는 수립된 모델링의 설명력 감소\n",
    "자연 발생 이상값은 찬찬히 이상값을 확인할 것. \n",
    "\n",
    ">D. 리샘플링 : 자연 발생한 이상값을 처리하는 또다른 방법. 이상 값을 분리하여 모델을 만든다. \n",
    "\n",
    ">E. 케이스를 분리하여 분석 : 이상값이지만 실제로 발생할 수 있는 경우 -> 대상값을 실제로 제외시키면 현상에 대한 정확한 설명 불가. <strong>케이스를 분리하여 분석하는 것을 추천</strong>\n"
   ]
  },
  {
   "cell_type": "markdown",
   "metadata": {},
   "source": [
    "* Feature engineering 추후 기재 "
   ]
  }
 ],
 "metadata": {
  "kernelspec": {
   "display_name": "Python 3",
   "language": "python",
   "name": "python3"
  },
  "language_info": {
   "codemirror_mode": {
    "name": "ipython",
    "version": 3
   },
   "file_extension": ".py",
   "mimetype": "text/x-python",
   "name": "python",
   "nbconvert_exporter": "python",
   "pygments_lexer": "ipython3",
   "version": "3.6.3"
  }
 },
 "nbformat": 4,
 "nbformat_minor": 2
}
