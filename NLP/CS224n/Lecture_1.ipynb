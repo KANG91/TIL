{
 "cells": [
  {
   "cell_type": "markdown",
   "metadata": {},
   "source": [
    "## Lecutre_1 : Natural Language Processing with Deep Learning"
   ]
  },
  {
   "cell_type": "markdown",
   "metadata": {},
   "source": [
    "## 1. What is NLP?\n",
    "- NLP는 컴퓨터 사이언스, 인공지능, 언어학의 교차점에 있는 분야\n",
    "- NLP의 목표는 useful한 자연어 tasks를 컴퓨터에게 '이해'시키는 것."
   ]
  },
  {
   "attachments": {},
   "cell_type": "markdown",
   "metadata": {},
   "source": [
    "![이것이 변화](.\\1-1.png)\n",
    "\n",
    "- NLP levels\n",
    "- speech, text로부터 시작해 점차 복잡한 형태의 레벨로 나아감"
   ]
  },
  {
   "cell_type": "markdown",
   "metadata": {},
   "source": [
    "### NLP applications\n",
    "- low level : 스펠링 확인, 키워드 검색, finding synonyms\n",
    "- mid level : 웹사이트로부터 정보 추출(상품 가격, 날짜, 위치, 사람 또는 회사 이름), 분류 : 긍/부정\n",
    "- high level : machine tranlation, complex question answering\n",
    "        "
   ]
  },
  {
   "cell_type": "markdown",
   "metadata": {},
   "source": [
    "### NLP in industry ...is taking off\n",
    "- 스펠링 에러가 고쳐지거나, 나에게 적합한 광고가 추천됨.\n",
    "- 월가의 회사들은 사고,파는 결정을 하기 위해 매일 뉴스 기사를 스캐닝함."
   ]
  },
  {
   "cell_type": "markdown",
   "metadata": {},
   "source": [
    "### What's special about human language?\n",
    "- 언어는 화자나 작가의 의미를 전달하기 위해 만들어짐\n",
    "- 자연의 신호가 아닌, 섬세한 의사소통임\n",
    "- 언어는 discrete, symbolic, categocial한 신호 시스템임. \n",
    "- 언어가 인코딩 되는 방법은 sound도 있지만, 제스쳐, 이미지(글쓰기)를 포함하여 ** 다양**"
   ]
  },
  {
   "attachments": {},
   "cell_type": "markdown",
   "metadata": {},
   "source": [
    "## 2. What's Deep Learning?\n",
    "- 머신러닝의 subfield 중 하나\n",
    "- most machine learning work well because of ** human - designed representations and input features **\n",
    "- 실제로 머신은 learning하지 않음 -> 실제로는 인간이 hard하게 문제를 분석해서 learning하는 것.\n",
    "\n",
    "#### Machine Learning vs Deep Learning\n",
    "- Machine learning\n",
    "![image.png](.\\1-2.png)\n",
    "\n",
    "- Deep learning\n",
    "- Learned Featurese are easy to adppt, fast to learn \n",
    "- 딥러닝에 필요한 기술은 모두 80,90년대에 개발되었지만 지금 사용되는 이유는 이론을 가능케 하는 컴퓨터 파워(cpu, gpu 등)이 발전했기 때문.\n",
    " "
   ]
  },
  {
   "cell_type": "markdown",
   "metadata": {},
   "source": [
    "### Why NLP is hard?\n",
    "- 인간의 언어는 프로그래밍언어와 같지 않아 여러 이유가 있음\n",
    "- 사람의 언어 의사소통은 속도가 빠르지 않지만, 기본적으로 가지고 있는 배경지식, 문법적 지식을 통해 빠르게 이해가 가능 -> 컴퓨터는 불가능 **가장 큰 이유 ** "
   ]
  },
  {
   "attachments": {},
   "cell_type": "markdown",
   "metadata": {},
   "source": [
    "![image.png](.\\1-3.png)\n",
    "표시하기 용이하게 하기위해 8차원 벡터로 나타나냈지만, 보통은 100,300, 1000차원으로도 표기"
   ]
  },
  {
   "attachments": {},
   "cell_type": "markdown",
   "metadata": {},
   "source": [
    "Representations of NLP : Morphology\n",
    "![image.png](.\\1-4.png)"
   ]
  },
  {
   "attachments": {},
   "cell_type": "markdown",
   "metadata": {},
   "source": [
    "![image.png](.\\1-5.png)\n",
    "- morphology 이후 문장의 의미 파악 단계, 기존에 사용하던 방법은 lambda calculus\n",
    "- 수업에선 다른 방법을 사용할 것(어떤 방법을 사용하는지 이해 못함)\n"
   ]
  },
  {
   "cell_type": "markdown",
   "metadata": {},
   "source": [
    "다음시간에는 단어를 어떻게 벡터로 표현하는지에, 실제로 어떤 무엇을 뜻할지  대해 배울 예정."
   ]
  }
 ],
 "metadata": {
  "kernelspec": {
   "display_name": "Python 3",
   "language": "python",
   "name": "python3"
  },
  "language_info": {
   "codemirror_mode": {
    "name": "ipython",
    "version": 3
   },
   "file_extension": ".py",
   "mimetype": "text/x-python",
   "name": "python",
   "nbconvert_exporter": "python",
   "pygments_lexer": "ipython3",
   "version": "3.6.3"
  }
 },
 "nbformat": 4,
 "nbformat_minor": 2
}
