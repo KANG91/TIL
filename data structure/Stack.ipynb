{
 "cells": [
  {
   "cell_type": "code",
   "execution_count": 6,
   "metadata": {},
   "outputs": [],
   "source": [
    "class Stack : \n",
    "    def __init__(self) : \n",
    "        self.items = []\n",
    "        self.max = 5\n",
    "        \n",
    "    def push(self, item) : \n",
    "        if len(self.items) < 5 :\n",
    "            self.items.append(item)\n",
    "        else : \n",
    "            print(\"abort push in order to prevent stack overflow\")\n",
    "            \n",
    "    def pop(self) : \n",
    "        if len(self.items) > 0 :\n",
    "            self.items.pop()\n",
    "        else : \n",
    "            print(\"stack is empty, abort pop to prevent stack underflow\")\n",
    "            \n",
    "    def print_stack(self) : \n",
    "        print(self, items)\n",
    "        \n",
    "    def peek(self) : \n",
    "        return self.items[len(self.items)-1]\n",
    "    def is_empty(self) : \n",
    "        return self.items == []\n",
    "    \n",
    "    def size(self) : \n",
    "        return len(self.items)\n",
    "    "
   ]
  },
  {
   "cell_type": "code",
   "execution_count": null,
   "metadata": {},
   "outputs": [],
   "source": []
  }
 ],
 "metadata": {
  "kernelspec": {
   "display_name": "Python 3",
   "language": "python",
   "name": "python3"
  },
  "language_info": {
   "codemirror_mode": {
    "name": "ipython",
    "version": 3
   },
   "file_extension": ".py",
   "mimetype": "text/x-python",
   "name": "python",
   "nbconvert_exporter": "python",
   "pygments_lexer": "ipython3",
   "version": "3.6.5"
  }
 },
 "nbformat": 4,
 "nbformat_minor": 2
}
