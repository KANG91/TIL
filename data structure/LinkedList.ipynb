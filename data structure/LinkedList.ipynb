{
 "cells": [
  {
   "cell_type": "code",
   "execution_count": 2,
   "metadata": {},
   "outputs": [],
   "source": [
    "class Node : \n",
    "    def __init__(self, item) : \n",
    "        self.val = item\n",
    "        self.next = None"
   ]
  },
  {
   "cell_type": "code",
   "execution_count": 12,
   "metadata": {},
   "outputs": [],
   "source": [
    "class LinkedList : \n",
    "    def __init__(self, item) : \n",
    "        self.head = Node(item)\n",
    "        \n",
    "    def add(self, item) : \n",
    "        cur = self.head\n",
    "        while cur.next is not None : \n",
    "            cur = cur.next\n",
    "        cur.next = Node(item)\n",
    "        \n",
    "    def remove(self, item) : \n",
    "        if self.head.val == item\n",
    "            self.head = self.head.next\n",
    "        else : \n",
    "            while cur.next is not None : \n",
    "                if cur.val == item : \n",
    "                    self.removeItem(item)\n",
    "                    return\n",
    "                cur  = cur.next\n",
    "                \n",
    "            print(\"item does not exist in linke list\")\n",
    "            \n",
    "    def removeItem(self, item) : \n",
    "        cur  = self.head\n",
    "        while cur.next is not None : \n",
    "            if cur.next.val = item : \n",
    "                nextnode = cur.next.next\n",
    "                cur.next = nextnode\n",
    "                break\n",
    "    def reverse(self) : \n",
    "        prev = None\n",
    "        cur = self.head\n",
    "        while cur is not None : \n",
    "            next = cur.next\n",
    "            cur.next = prev\n",
    "            prev = cur\n",
    "            cur = next\n",
    "        self.head = prev\n",
    "        \n",
    "    def printlist(def) : \n",
    "        cur = self.head\n",
    "        while cur is not None : \n",
    "            print(cur.val)\n",
    "            cur = cur.next\n",
    "            \n",
    "        "
   ]
  },
  {
   "cell_type": "code",
   "execution_count": 37,
   "metadata": {},
   "outputs": [],
   "source": [
    "ll = LinkedList(3)"
   ]
  },
  {
   "cell_type": "code",
   "execution_count": 43,
   "metadata": {},
   "outputs": [
    {
     "data": {
      "text/plain": [
       "True"
      ]
     },
     "execution_count": 43,
     "metadata": {},
     "output_type": "execute_result"
    }
   ],
   "source": [
    "ll.head.val == 3"
   ]
  },
  {
   "cell_type": "code",
   "execution_count": 46,
   "metadata": {},
   "outputs": [],
   "source": [
    "ll.add(4)"
   ]
  },
  {
   "cell_type": "code",
   "execution_count": 48,
   "metadata": {},
   "outputs": [
    {
     "data": {
      "text/plain": [
       "4"
      ]
     },
     "execution_count": 48,
     "metadata": {},
     "output_type": "execute_result"
    }
   ],
   "source": [
    "ll.head.next.val"
   ]
  }
 ],
 "metadata": {
  "kernelspec": {
   "display_name": "Python 3",
   "language": "python",
   "name": "python3"
  },
  "language_info": {
   "codemirror_mode": {
    "name": "ipython",
    "version": 3
   },
   "file_extension": ".py",
   "mimetype": "text/x-python",
   "name": "python",
   "nbconvert_exporter": "python",
   "pygments_lexer": "ipython3",
   "version": "3.6.5"
  }
 },
 "nbformat": 4,
 "nbformat_minor": 2
}
