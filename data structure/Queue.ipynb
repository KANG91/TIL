{
 "cells": [
  {
   "cell_type": "code",
   "execution_count": 15,
   "metadata": {},
   "outputs": [],
   "source": [
    "class Queue : \n",
    "    def __init__(self) :\n",
    "        self.items = []\n",
    "        \n",
    "    def enqueue(self, item) : \n",
    "        self.items.insert(0, item)\n",
    "        \n",
    "    def dequeue(self) : \n",
    "        self.items.pop()\n",
    "    \n",
    "    def print_queue(self) : \n",
    "        print(self.items)\n",
    "        \n",
    "    def is_empty(self) : \n",
    "        return self.items == []\n",
    "    \n",
    "    def size(self) :\n",
    "        return len(self.items)\n",
    "    "
   ]
  }
 ],
 "metadata": {
  "kernelspec": {
   "display_name": "Python 3",
   "language": "python",
   "name": "python3"
  },
  "language_info": {
   "codemirror_mode": {
    "name": "ipython",
    "version": 3
   },
   "file_extension": ".py",
   "mimetype": "text/x-python",
   "name": "python",
   "nbconvert_exporter": "python",
   "pygments_lexer": "ipython3",
   "version": "3.6.5"
  }
 },
 "nbformat": 4,
 "nbformat_minor": 2
}
