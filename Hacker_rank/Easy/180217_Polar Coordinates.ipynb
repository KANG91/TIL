{
 "cells": [
  {
   "cell_type": "markdown",
   "metadata": {},
   "source": [
    "#### Sample input\n",
    "1 + 2j"
   ]
  },
  {
   "cell_type": "markdown",
   "metadata": {},
   "source": [
    "#### Sample Output\n",
    "2.23606797749979  \n",
    "1.1071487177940904  "
   ]
  },
  {
   "cell_type": "code",
   "execution_count": 99,
   "metadata": {},
   "outputs": [
    {
     "name": "stdout",
     "output_type": "stream",
     "text": [
      "-80-25j\n",
      "83.815\n",
      "-2.839\n"
     ]
    }
   ],
   "source": [
    "from cmath import phase\n",
    "from math import sqrt\n",
    "import re\n",
    "sample = input()\n",
    "ls = re.findall(\"\\d+\", sample)\n",
    "complex_number = complex(sample)\n",
    "print(round(sqrt(int(ls[0]) ** 2 + int(ls[1]) ** 2), 3))\n",
    "print(round(phase(complex_number), 3))"
   ]
  }
 ],
 "metadata": {
  "kernelspec": {
   "display_name": "Python 3",
   "language": "python",
   "name": "python3"
  },
  "language_info": {
   "codemirror_mode": {
    "name": "ipython",
    "version": 3
   },
   "file_extension": ".py",
   "mimetype": "text/x-python",
   "name": "python",
   "nbconvert_exporter": "python",
   "pygments_lexer": "ipython3",
   "version": "3.6.3"
  }
 },
 "nbformat": 4,
 "nbformat_minor": 2
}
