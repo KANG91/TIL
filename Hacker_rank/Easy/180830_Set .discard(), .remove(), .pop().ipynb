{
 "cells": [
  {
   "cell_type": "markdown",
   "metadata": {},
   "source": [
    "#### Sample Input\n",
    "\n",
    "9  \n",
    "1 2 3 4 5 6 7 8 9  \n",
    "10  \n",
    "pop  \n",
    "remove 9  \n",
    "discard 9  \n",
    "discard 8  \n",
    "remove 7  \n",
    "pop   \n",
    "discard 6  \n",
    "remove 5  \n",
    "pop   \n",
    "discard 5  \n",
    "\n",
    "#### Sample Output\n",
    "\n",
    "4  "
   ]
  },
  {
   "cell_type": "code",
   "execution_count": 43,
   "metadata": {},
   "outputs": [
    {
     "name": "stdout",
     "output_type": "stream",
     "text": [
      "9\n",
      "1 2 3 4 5 6 7 8 9\n"
     ]
    }
   ],
   "source": [
    "n = int(input())\n",
    "s = set(map(int, input().split()))\n",
    "\n",
    "number_of_operation = int(input())\n",
    "for _ in range(number_of_operation) : \n",
    "    given_order = input()\n",
    "    if given_order == \"pop\"  : \n",
    "        operation = \"pop\"\n",
    "        eval(\"s.\" + operation + \"()\")\n",
    "    else : \n",
    "        operation, number = given_order.split()\n",
    "        eval(\"s.\" + operation + \"(\" + number + \")\")\n",
    "        \n",
    "print(sum(s))"
   ]
  }
 ],
 "metadata": {
  "kernelspec": {
   "display_name": "Python 3",
   "language": "python",
   "name": "python3"
  },
  "language_info": {
   "codemirror_mode": {
    "name": "ipython",
    "version": 3
   },
   "file_extension": ".py",
   "mimetype": "text/x-python",
   "name": "python",
   "nbconvert_exporter": "python",
   "pygments_lexer": "ipython3",
   "version": "3.6.5"
  }
 },
 "nbformat": 4,
 "nbformat_minor": 2
}
