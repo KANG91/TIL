{
 "cells": [
  {
   "cell_type": "markdown",
   "metadata": {},
   "source": [
    "#### itertools_product()"
   ]
  },
  {
   "cell_type": "markdown",
   "metadata": {},
   "source": [
    "Sample Input\n",
    "\n",
    " 1 2\n",
    " 3 4\n",
    "\n",
    "Sample Output\n",
    "\n",
    " (1, 3) (1, 4) (2, 3) (2, 4)"
   ]
  },
  {
   "cell_type": "code",
   "execution_count": 1,
   "metadata": {},
   "outputs": [],
   "source": [
    "from itertools import product"
   ]
  },
  {
   "cell_type": "code",
   "execution_count": 69,
   "metadata": {},
   "outputs": [
    {
     "name": "stdout",
     "output_type": "stream",
     "text": [
      "1 2\n",
      "3 4\n",
      "(1, 3) (1, 4) (2, 3) (2, 4)\n"
     ]
    }
   ],
   "source": [
    "n_1 = input()\n",
    "n_2 = input()\n",
    "\n",
    "ans = \"\"\n",
    "\n",
    "for idx, n in enumerate([j for i in list(product(n_1.split(), n_2.split())) for j in i]) : \n",
    "    if idx % 2 == 0 :\n",
    "        ans += \"(\" + n + \", \"\n",
    "    elif idx % 2 != 0 :\n",
    "        ans += n + \")\" + \" \"\n",
    "\n",
    "print(ans.strip())"
   ]
  }
 ],
 "metadata": {
  "kernelspec": {
   "display_name": "Python 3",
   "language": "python",
   "name": "python3"
  },
  "language_info": {
   "codemirror_mode": {
    "name": "ipython",
    "version": 3
   },
   "file_extension": ".py",
   "mimetype": "text/x-python",
   "name": "python",
   "nbconvert_exporter": "python",
   "pygments_lexer": "ipython3",
   "version": "3.6.5"
  }
 },
 "nbformat": 4,
 "nbformat_minor": 2
}
