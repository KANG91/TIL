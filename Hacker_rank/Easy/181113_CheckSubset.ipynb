{
 "cells": [
  {
   "cell_type": "markdown",
   "metadata": {},
   "source": [
    "https://www.hackerrank.com/challenges/py-check-subset/problem?h_r=next-challenge&h_v=zen&h_r=next-challenge&h_v=zen&h_r=next-challenge&h_v=zen&h_r=next-challenge&h_v=zen&h_r=next-challenge&h_v=zen"
   ]
  },
  {
   "cell_type": "markdown",
   "metadata": {},
   "source": [
    "#### Sample Input\n",
    "\n",
    "3  \n",
    "5  \n",
    "1 2 3 5 6  \n",
    "9  \n",
    "9 8 5 6 3 2 1 4 7  \n",
    "1  \n",
    "2  \n",
    "5  \n",
    "3 6 5 4 1  \n",
    "7  \n",
    "1 2 3 5 6 8 9  \n",
    "3  \n",
    "9 8 2  \n",
    "#### Sample Output  \n",
    "\n",
    "True   \n",
    "False  \n",
    "False  \n",
    "#### Explanation  \n",
    "\n",
    "Test Case 01 Explanation  \n",
    "\n",
    "Set  = {1 2 3 5 6}   \n",
    "Set  = {9 8 5 6 3 2 1 4 7}   \n",
    "All the elements of A set  are elements of set B. \n",
    "Hence, set A is a subset of set B."
   ]
  },
  {
   "cell_type": "code",
   "execution_count": 1,
   "metadata": {},
   "outputs": [
    {
     "name": "stdout",
     "output_type": "stream",
     "text": [
      "3\n"
     ]
    }
   ],
   "source": [
    "n = int(input())"
   ]
  },
  {
   "cell_type": "code",
   "execution_count": 11,
   "metadata": {},
   "outputs": [
    {
     "name": "stdout",
     "output_type": "stream",
     "text": [
      "5\n",
      "1 2 3 5 6\n",
      "9\n",
      "9 8 5 6 3 2 1 4 7\n",
      "True\n",
      "1\n",
      "2\n",
      "5\n",
      "3 6 5 4 1\n",
      "False\n",
      "7\n",
      "1 2 3 5 6 8 9\n",
      "3\n",
      "9 8 2\n",
      "False\n"
     ]
    }
   ],
   "source": [
    "for _ in range(n) : \n",
    "    j = int(input())\n",
    "    A = set(map(int, input().split()))\n",
    "    k = int(input())\n",
    "    B = set(map(int, input().split()))\n",
    "    print(A.issubset(B))"
   ]
  }
 ],
 "metadata": {
  "kernelspec": {
   "display_name": "Python 3",
   "language": "python",
   "name": "python3"
  },
  "language_info": {
   "codemirror_mode": {
    "name": "ipython",
    "version": 3
   },
   "file_extension": ".py",
   "mimetype": "text/x-python",
   "name": "python",
   "nbconvert_exporter": "python",
   "pygments_lexer": "ipython3",
   "version": "3.6.5"
  }
 },
 "nbformat": 4,
 "nbformat_minor": 2
}
