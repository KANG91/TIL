{
 "cells": [
  {
   "cell_type": "code",
   "execution_count": 23,
   "metadata": {
    "collapsed": true
   },
   "outputs": [],
   "source": [
    "def capitalize(string) : \n",
    "    ls = [i.capitalize() for i in string.split(\" \")]\n",
    "    result = \" \".join(ls)\n",
    "    return result"
   ]
  },
  {
   "cell_type": "code",
   "execution_count": 24,
   "metadata": {
    "scrolled": true
   },
   "outputs": [
    {
     "data": {
      "text/plain": [
       "'132 456 Wq  M E'"
      ]
     },
     "execution_count": 24,
     "metadata": {},
     "output_type": "execute_result"
    }
   ],
   "source": [
    "capitalize(\"132 456 Wq  m e\")"
   ]
  },
  {
   "cell_type": "markdown",
   "metadata": {},
   "source": [
    "처음에는 split()을 사용, 공백을 기준으로 단어를 나눴으나 이럴 경우\n",
    "주어진 string이 공백이 2칸이면 return 값으로 한 칸만을 return 하게 됨.\n",
    "이를 위해 split을 공백 한칸 기준으로 사용(split(\" \"))\n",
    "이렇게 해줌으로써 공백 한 칸자체도 살려주게 되어, join을 하고 나서도 공백 한 칸이 유지\n",
    "즉 문제에서 주어진대로 return값을 조정할 수 있었음"
   ]
  }
 ],
 "metadata": {
  "kernelspec": {
   "display_name": "Python 3",
   "language": "python",
   "name": "python3"
  },
  "language_info": {
   "codemirror_mode": {
    "name": "ipython",
    "version": 3
   },
   "file_extension": ".py",
   "mimetype": "text/x-python",
   "name": "python",
   "nbconvert_exporter": "python",
   "pygments_lexer": "ipython3",
   "version": "3.6.3"
  }
 },
 "nbformat": 4,
 "nbformat_minor": 2
}
