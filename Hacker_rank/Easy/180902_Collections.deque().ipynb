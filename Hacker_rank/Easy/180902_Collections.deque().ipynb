{
 "cells": [
  {
   "cell_type": "code",
   "execution_count": 28,
   "metadata": {},
   "outputs": [
    {
     "name": "stdout",
     "output_type": "stream",
     "text": [
      "6\n",
      "append 1\n",
      "append 2\n",
      "append 3\n",
      "appendleft 4\n",
      "pop\n",
      "popleft\n"
     ]
    }
   ],
   "source": [
    "from collections import deque\n",
    "\n",
    "d = deque()\n",
    "\n",
    "for _ in range(int(input())) : \n",
    "    command = input()\n",
    "    if \"pop\" in command :\n",
    "        \n",
    "        eval(\"d.\" + command + \"()\")\n",
    "    else :\n",
    "        order, number = command.split()\n",
    "        eval(\"d.\" + order + \"(\" + number + \")\")"
   ]
  },
  {
   "cell_type": "code",
   "execution_count": 30,
   "metadata": {},
   "outputs": [],
   "source": [
    "d = [str(idx) for idx in d]\n",
    "\n",
    "d = \" \".join(d)"
   ]
  }
 ],
 "metadata": {
  "kernelspec": {
   "display_name": "Python 3",
   "language": "python",
   "name": "python3"
  },
  "language_info": {
   "codemirror_mode": {
    "name": "ipython",
    "version": 3
   },
   "file_extension": ".py",
   "mimetype": "text/x-python",
   "name": "python",
   "nbconvert_exporter": "python",
   "pygments_lexer": "ipython3",
   "version": "3.6.5"
  }
 },
 "nbformat": 4,
 "nbformat_minor": 2
}
