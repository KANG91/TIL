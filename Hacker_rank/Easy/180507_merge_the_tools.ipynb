{
 "cells": [
  {
   "cell_type": "markdown",
   "metadata": {},
   "source": [
    "#### Sample Input\n",
    "\n",
    "AABCAAADA  \n",
    "3    "
   ]
  },
  {
   "cell_type": "markdown",
   "metadata": {},
   "source": [
    "#### Sample Output\n",
    "\n",
    "AB  \n",
    "CA  \n",
    "AD  "
   ]
  },
  {
   "cell_type": "code",
   "execution_count": 47,
   "metadata": {
    "collapsed": true
   },
   "outputs": [],
   "source": [
    "def merge_the_tools(string, k):\n",
    "    n = int(len(string)/int(k))\n",
    "    for i in range(1, n+1) :  \n",
    "        string_by_k = string[ (i - 1) * n : n * i]\n",
    "        result = []\n",
    "        for i in range(len(string_by_k)) :\n",
    "        \n",
    "            if i == 0 :\n",
    "                result.append(string_by_k[i])\n",
    "            elif string_by_k[i] not in result :\n",
    "                result.append(string_by_k[i])\n",
    "    \n",
    "        print(\"\".join(result))"
   ]
  },
  {
   "cell_type": "code",
   "execution_count": 67,
   "metadata": {},
   "outputs": [
    {
     "name": "stdout",
     "output_type": "stream",
     "text": [
      "AB\n",
      "CA\n",
      "AD\n"
     ]
    }
   ],
   "source": [
    "merge_the_tools(\"AABCAAADA\", 3)"
   ]
  }
 ],
 "metadata": {
  "kernelspec": {
   "display_name": "Python 3",
   "language": "python",
   "name": "python3"
  },
  "language_info": {
   "codemirror_mode": {
    "name": "ipython",
    "version": 3
   },
   "file_extension": ".py",
   "mimetype": "text/x-python",
   "name": "python",
   "nbconvert_exporter": "python",
   "pygments_lexer": "ipython3",
   "version": "3.6.3"
  }
 },
 "nbformat": 4,
 "nbformat_minor": 2
}
