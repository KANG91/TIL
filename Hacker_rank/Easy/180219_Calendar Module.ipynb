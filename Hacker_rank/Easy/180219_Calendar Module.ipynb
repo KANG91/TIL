{
 "cells": [
  {
   "cell_type": "markdown",
   "metadata": {},
   "source": [
    "#### Sample input\n",
    "08 05 2015"
   ]
  },
  {
   "cell_type": "markdown",
   "metadata": {},
   "source": [
    "####  Sample output\n",
    "WEDNESDAY"
   ]
  },
  {
   "cell_type": "code",
   "execution_count": 1,
   "metadata": {
    "collapsed": true
   },
   "outputs": [],
   "source": [
    "import calendar\n",
    "\n",
    "date = list(map(int, input().split()))\n",
    "month = date[0]\n",
    "day = date[1]\n",
    "year = date[2]\n",
    "\n",
    "answer = calendar.weekday(year, month, day)\n",
    "\n",
    "for idx,weekday in enumerate(list(calendar.day_name)) : \n",
    "    if answer == idx :\n",
    "        print(weekday.upper())"
   ]
  }
 ],
 "metadata": {
  "kernelspec": {
   "display_name": "Python 3",
   "language": "python",
   "name": "python3"
  },
  "language_info": {
   "codemirror_mode": {
    "name": "ipython",
    "version": 3
   },
   "file_extension": ".py",
   "mimetype": "text/x-python",
   "name": "python",
   "nbconvert_exporter": "python",
   "pygments_lexer": "ipython3",
   "version": "3.6.3"
  }
 },
 "nbformat": 4,
 "nbformat_minor": 2
}
