{
 "cells": [
  {
   "cell_type": "markdown",
   "metadata": {},
   "source": [
    "#### Sample Input\n",
    "\n",
    "9\n",
    "1 2 3 4 5 6 7 8 9\n",
    "9\n",
    "10 1 2 3 11 21 55 6 8\n",
    "#### Sample Output\n",
    "\n",
    "13\n",
    "#### Explanation\n",
    "\n",
    "Roll numbers of students who have at least one subscription:  \n",
    " and . Roll numbers:  and  are in both sets so they are only counted once.  \n",
    "Hence, the total is  students.  "
   ]
  },
  {
   "cell_type": "code",
   "execution_count": 8,
   "metadata": {},
   "outputs": [
    {
     "name": "stdout",
     "output_type": "stream",
     "text": [
      "9\n"
     ]
    }
   ],
   "source": [
    "number_of_english_subscriber = int(input())\n",
    "english_roll_numbers = set(map(int, input().split()))\n",
    "number_of_french_subscriber = int(input())\n",
    "french_roll_numbers = set(map(int, input().split()))\n",
    "\n",
    "print(len(english_roll_numbers | french_roll_numbers))"
   ]
  }
 ],
 "metadata": {
  "kernelspec": {
   "display_name": "Python 3",
   "language": "python",
   "name": "python3"
  },
  "language_info": {
   "codemirror_mode": {
    "name": "ipython",
    "version": 3
   },
   "file_extension": ".py",
   "mimetype": "text/x-python",
   "name": "python",
   "nbconvert_exporter": "python",
   "pygments_lexer": "ipython3",
   "version": "3.6.5"
  }
 },
 "nbformat": 4,
 "nbformat_minor": 2
}
