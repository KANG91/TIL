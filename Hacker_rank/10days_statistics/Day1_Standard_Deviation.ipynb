{
 "cells": [
  {
   "cell_type": "code",
   "execution_count": null,
   "metadata": {},
   "outputs": [],
   "source": [
    "import numpy as np\n",
    "\n",
    "n = int(input())\n",
    "\n",
    "numbers = list(map(int, input().split()))\n",
    "\n",
    "mean = np.average(numbers)\n",
    "\n",
    "value = 0\n",
    "for i in numbers : \n",
    "    value += (i - mean)**2\n",
    "ans = np.sqrt(value/n)\n",
    "\n",
    "print(round(ans, 1))"
   ]
  },
  {
   "cell_type": "markdown",
   "metadata": {},
   "source": [
    "---"
   ]
  },
  {
   "cell_type": "code",
   "execution_count": 16,
   "metadata": {},
   "outputs": [],
   "source": [
    "import math\n",
    "\n",
    "n = int(input())\n",
    "\n",
    "numbers = list(map(int, input().split()))\n",
    "\n",
    "def get_mean(numbers) : \n",
    "    return sum(numbers)/len(numbers)\n",
    "\n",
    "mean = get_mean(numbers)\n",
    "\n",
    "value = 0\n",
    "for i in numbers : \n",
    "    value += (i - mean)**2\n",
    "ans = math.sqrt(value/n)\n",
    "\n",
    "print(round(ans, 1))"
   ]
  }
 ],
 "metadata": {
  "kernelspec": {
   "display_name": "Python 3",
   "language": "python",
   "name": "python3"
  },
  "language_info": {
   "codemirror_mode": {
    "name": "ipython",
    "version": 3
   },
   "file_extension": ".py",
   "mimetype": "text/x-python",
   "name": "python",
   "nbconvert_exporter": "python",
   "pygments_lexer": "ipython3",
   "version": "3.6.5"
  }
 },
 "nbformat": 4,
 "nbformat_minor": 2
}
