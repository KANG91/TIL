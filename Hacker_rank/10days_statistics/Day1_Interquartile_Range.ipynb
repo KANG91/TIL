{
 "cells": [
  {
   "cell_type": "code",
   "execution_count": 18,
   "metadata": {},
   "outputs": [
    {
     "name": "stdout",
     "output_type": "stream",
     "text": [
      "20\n",
      "10 40 30 50 20 10 40 30 50 20 1 2 3 4 5 6 7 8 9 10\n",
      "1 2 3 4 5 6 7 8 9 10 10 40 30 50 20 10 40 30 50 20\n"
     ]
    }
   ],
   "source": [
    "n = int(input())\n",
    "\n",
    "numbers_list = list(map(int, input().split()))\n",
    "\n",
    "frequency = list(map(int, input().split()))\n",
    "\n",
    "num_fre = {num:fre for num, fre in zip(numbers_list, frequency)}\n",
    "\n",
    "from collections import Counter\n",
    "\n",
    "numbers = sorted(list(Counter(num_fre).elements()))\n",
    "\n",
    "def median(numbers) : \n",
    "    n = len(numbers)\n",
    "    mid_idx = n//2\n",
    "    #짝수 일 경우\n",
    "    if n % 2 == 0 : \n",
    "        mid_1 = numbers[mid_idx]\n",
    "        mid_2 = numbers[mid_idx - 1]\n",
    "        q2 = (mid_1 + mid_2)/2\n",
    "    else : \n",
    "        q2 = numbers[mid_idx]\n",
    "    return q2\n",
    "\n",
    "mid_idx = len(numbers)//2\n",
    "# 짝수일 경우\n",
    "if n % 2 == 0 :\n",
    "    \n",
    "    q1 = median(numbers[:mid_idx])\n",
    "    q2 = median(numbers)\n",
    "    q3 = median(numbers[mid_idx:])\n",
    "    \n",
    "else : #홀수 일 경우\n",
    "    q1 = median(numbers[:mid_idx])\n",
    "    q2 = median(numbers)\n",
    "    q3 = median(numbers[mid_idx+1:])"
   ]
  },
  {
   "cell_type": "code",
   "execution_count": 20,
   "metadata": {},
   "outputs": [
    {
     "data": {
      "text/plain": [
       "5.0"
      ]
     },
     "execution_count": 20,
     "metadata": {},
     "output_type": "execute_result"
    }
   ],
   "source": [
    "float(q3-q1)"
   ]
  }
 ],
 "metadata": {
  "kernelspec": {
   "display_name": "Python 3",
   "language": "python",
   "name": "python3"
  },
  "language_info": {
   "codemirror_mode": {
    "name": "ipython",
    "version": 3
   },
   "file_extension": ".py",
   "mimetype": "text/x-python",
   "name": "python",
   "nbconvert_exporter": "python",
   "pygments_lexer": "ipython3",
   "version": "3.6.5"
  }
 },
 "nbformat": 4,
 "nbformat_minor": 2
}
