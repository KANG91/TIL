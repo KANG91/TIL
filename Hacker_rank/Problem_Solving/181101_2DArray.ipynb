{
 "cells": [
  {
   "cell_type": "markdown",
   "metadata": {},
   "source": [
    "#### Sample Input\n",
    "1 1 1 0 0 0  \n",
    "0 1 0 0 0 0  \n",
    "1 1 1 0 0 0  \n",
    "0 0 2 4 4 0  \n",
    "0 0 0 2 0 0  \n",
    "0 0 1 2 4 0 "
   ]
  },
  {
   "cell_type": "markdown",
   "metadata": {},
   "source": [
    "#### Sample Output\n",
    "19"
   ]
  },
  {
   "cell_type": "code",
   "execution_count": 43,
   "metadata": {},
   "outputs": [
    {
     "name": "stdout",
     "output_type": "stream",
     "text": [
      "1 1 1 0 0 0\n",
      "0 1 0 0 0 0\n",
      "1 1 1 0 0 0\n",
      "0 0 2 4 4 0\n",
      "0 0 0 2 0 0\n",
      "0 0 1 2 4 0\n"
     ]
    }
   ],
   "source": [
    "arr = []\n",
    "\n",
    "for _ in range(6):\n",
    "    arr.append(list(map(int, input().rstrip().split())))"
   ]
  },
  {
   "cell_type": "code",
   "execution_count": 3,
   "metadata": {},
   "outputs": [],
   "source": [
    "import numpy as np\n",
    "\n",
    "arr = np.array(arr)\n",
    "\n",
    "m,n = arr.shape\n",
    "row, col = m-3, n-3\n",
    "\n",
    "result = []\n",
    "for i in range(row+1) :\n",
    "    for j in range(col+1) : \n",
    "        part = arr[i:3+i, j:3+j]\n",
    "        one = part[0, : ].sum()\n",
    "        two = part[2, 2]\n",
    "        three = part[2, :].sum()\n",
    "        answer = one + two + three\n",
    "        result.append(answer)\n",
    "\n",
    "sorted(result, reverse = True)[0]"
   ]
  }
 ],
 "metadata": {
  "kernelspec": {
   "display_name": "Python 3",
   "language": "python",
   "name": "python3"
  },
  "language_info": {
   "codemirror_mode": {
    "name": "ipython",
    "version": 3
   },
   "file_extension": ".py",
   "mimetype": "text/x-python",
   "name": "python",
   "nbconvert_exporter": "python",
   "pygments_lexer": "ipython3",
   "version": "3.6.5"
  }
 },
 "nbformat": 4,
 "nbformat_minor": 2
}
