{
 "cells": [
  {
   "cell_type": "code",
   "execution_count": 1,
   "metadata": {},
   "outputs": [
    {
     "name": "stdout",
     "output_type": "stream",
     "text": [
      "5 4\n",
      "1 2 3 4 5\n"
     ]
    }
   ],
   "source": [
    "nd = input().split()\n",
    "\n",
    "n = int(nd[0])\n",
    "\n",
    "d = int(nd[1])\n",
    "\n",
    "a = list(map(int, input().rstrip().split()))"
   ]
  },
  {
   "cell_type": "code",
   "execution_count": 16,
   "metadata": {},
   "outputs": [],
   "source": [
    "ls = []\n",
    "for idx in range(n) : \n",
    "    shift = (idx + d) % n\n",
    "    ls.append(a[shift])\n",
    "\n",
    "ls = list(map(str, ls))\n",
    "\n",
    "\" \".join(ls)"
   ]
  }
 ],
 "metadata": {
  "kernelspec": {
   "display_name": "Python 3",
   "language": "python",
   "name": "python3"
  },
  "language_info": {
   "codemirror_mode": {
    "name": "ipython",
    "version": 3
   },
   "file_extension": ".py",
   "mimetype": "text/x-python",
   "name": "python",
   "nbconvert_exporter": "python",
   "pygments_lexer": "ipython3",
   "version": "3.6.5"
  }
 },
 "nbformat": 4,
 "nbformat_minor": 2
}
