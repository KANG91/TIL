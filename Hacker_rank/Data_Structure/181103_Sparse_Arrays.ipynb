{
 "cells": [
  {
   "cell_type": "code",
   "execution_count": 1,
   "metadata": {},
   "outputs": [],
   "source": [
    "from collections import Counter"
   ]
  },
  {
   "cell_type": "code",
   "execution_count": 16,
   "metadata": {},
   "outputs": [],
   "source": [
    "def matchingStrings(strings, queries) : \n",
    "    result = []\n",
    "    for query in queries : \n",
    "        n = Counter(strings)[query]\n",
    "        result.append(n)\n",
    "        \n",
    "    return result"
   ]
  },
  {
   "cell_type": "code",
   "execution_count": 18,
   "metadata": {},
   "outputs": [
    {
     "name": "stdout",
     "output_type": "stream",
     "text": [
      "4\n",
      "aba\n",
      "baba\n",
      "aba\n",
      "xzxb\n",
      "3\n",
      "aba\n",
      "xzxb\n",
      "ab\n"
     ]
    }
   ],
   "source": [
    "strings_count = int(input())\n",
    "\n",
    "strings = []\n",
    "\n",
    "for _ in range(strings_count):\n",
    "    strings_item = input()\n",
    "    strings.append(strings_item)\n",
    "\n",
    "queries_count = int(input())\n",
    "\n",
    "queries = []\n",
    "\n",
    "for _ in range(queries_count):\n",
    "    queries_item = input()\n",
    "    queries.append(queries_item)\n",
    "\n",
    "res = matchingStrings(strings, queries)\n"
   ]
  },
  {
   "cell_type": "code",
   "execution_count": 19,
   "metadata": {},
   "outputs": [
    {
     "data": {
      "text/plain": [
       "[2, 1, 0]"
      ]
     },
     "execution_count": 19,
     "metadata": {},
     "output_type": "execute_result"
    }
   ],
   "source": [
    "res"
   ]
  }
 ],
 "metadata": {
  "kernelspec": {
   "display_name": "Python 3",
   "language": "python",
   "name": "python3"
  },
  "language_info": {
   "codemirror_mode": {
    "name": "ipython",
    "version": 3
   },
   "file_extension": ".py",
   "mimetype": "text/x-python",
   "name": "python",
   "nbconvert_exporter": "python",
   "pygments_lexer": "ipython3",
   "version": "3.6.5"
  }
 },
 "nbformat": 4,
 "nbformat_minor": 2
}
