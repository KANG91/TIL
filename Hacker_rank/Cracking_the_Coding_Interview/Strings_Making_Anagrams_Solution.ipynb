{
 "cells": [
  {
   "cell_type": "markdown",
   "metadata": {},
   "source": [
    "### Strings: Making Anagrams\n",
    "\n",
    "Alice is taking a cryptography class and finding anagrams to be very useful. We consider two strings to be anagrams of each other if the first string's letters can be rearranged to form the second string. In other words, both strings must contain the same exact letters in the same exact frequency For example, `bacdc` and `dcbac` are anagrams, but `bacdc` and `dcbad` are not.\n",
    "\n",
    "Alice decides on an encryption scheme involving two large strings where encryption is dependent on the minimum number of character deletions required to make the two strings anagrams. Can you help her find this number?\n",
    "\n",
    "Given two strings, $a$ and $b$, that may or may not be of the same length, determine the minimum number of character deletions required to make $a$ and $b$ anagrams. Any characters can be deleted from either of the strings."
   ]
  },
  {
   "cell_type": "markdown",
   "metadata": {},
   "source": [
    "##### Input Format\n",
    "- The first line contains a single string, $a$. \n",
    "- The second line contains a single string, $b$."
   ]
  },
  {
   "cell_type": "markdown",
   "metadata": {},
   "source": [
    "##### Constraints\n",
    "- $1 \\le |a|, |b| \\le 10^4$\n",
    "- It is guaranteed that $a$ and $b$ consist of lowercase English alphabetic letters (i.e., $a$ through $z$)."
   ]
  },
  {
   "cell_type": "markdown",
   "metadata": {},
   "source": [
    "##### Output Format\n",
    "Print a single integer denoting the number of characters you must delete to make the two strings anagrams of each other."
   ]
  },
  {
   "cell_type": "markdown",
   "metadata": {},
   "source": [
    "##### Sample Input\n",
    "```\n",
    "cde\n",
    "abc\n",
    "```"
   ]
  },
  {
   "cell_type": "markdown",
   "metadata": {},
   "source": [
    "##### Sample Output\n",
    "```\n",
    "4\n",
    "```"
   ]
  },
  {
   "cell_type": "markdown",
   "metadata": {},
   "source": [
    "##### Explanation\n",
    "```\n",
    "We delete the following characters from our two strings to turn them into anagrams of each other:\n",
    "Remove d and e from cde to get c.\n",
    "Remove a and b from abc to get c.\n",
    "We must delete 4 characters to make both strings anagrams, so we print 4 on a new line.\n",
    "```"
   ]
  },
  {
   "cell_type": "code",
   "execution_count": 10,
   "metadata": {},
   "outputs": [
    {
     "name": "stdout",
     "output_type": "stream",
     "text": [
      "cde\n",
      "abc\n",
      "4\n"
     ]
    }
   ],
   "source": [
    "def number_needed(a, b):\n",
    "\n",
    "    def remove(data, char):\n",
    "        l = list(data)\n",
    "        l.remove(char)\n",
    "        return \"\".join(l)\n",
    "\n",
    "    list_a = list(a)\n",
    "    delete_count = len(a) + len(b)\n",
    "    for idx, c in enumerate(list_a):\n",
    "        if c in b:\n",
    "            a = remove(a, c)\n",
    "            b = remove(b, c)\n",
    "            delete_count -= 2\n",
    "\n",
    "    return delete_count\n",
    "\n",
    "a = input().strip()\n",
    "b = input().strip()\n",
    "\n",
    "print(number_needed(a, b))"
   ]
  },
  {
   "cell_type": "code",
   "execution_count": 6,
   "metadata": {},
   "outputs": [
    {
     "name": "stdout",
     "output_type": "stream",
     "text": [
      "asdfr zxcv\n",
      "9\n"
     ]
    }
   ],
   "source": [
    "def number_needed(a, b):\n",
    "    \"\"\"\n",
    "        1. a: anagram을 만들 첫번째 문자열 , b: anagram을 만들 두번째 문자열\n",
    "        2. delete_count: 삭제될 문자열 길이\n",
    "        3. a의 문자를 하나씩 확인하며 b의 문자열에 해당 문자가 있는지 확인하여 해당 문자가 있으면 a문자열과 b문자열에서 제거\n",
    "        4. 제거할때는 a의 문자열과 b의 문자열에서 각각 삭제됨으로 delete_count를 2씩 줄임\n",
    "        5. 삭제되는 문자열의 수를 리턴\n",
    "    \"\"\"\n",
    "    \n",
    "    def remove(data, char):\n",
    "        \"\"\"\n",
    "            1. data: 문자열, char: 제거할 문자\n",
    "            2. 문자열을 입력받아 가장 앞에 있는 제거할 문자를 제거 후 문자열로 리턴\n",
    "            3. data = asdfa, char = a -> return 'sdfa'\n",
    "        \"\"\"\n",
    "        l = list(data)\n",
    "        l.remove(char)\n",
    "        return \"\".join(l)\n",
    "\n",
    "    list_a = list(a)\n",
    "    delete_count = len(a) + len(b)\n",
    "    for idx, c in enumerate(list_a):\n",
    "        if c in b:\n",
    "            a = remove(a, c)\n",
    "            b = remove(b, c)\n",
    "            delete_count -= 2\n",
    "\n",
    "    return delete_count\n",
    "        \n",
    "a = \"asdfqwerrr\"\n",
    "b = \"qwerrzxcv\"\n",
    "\n",
    "print(number_needed(a, b))"
   ]
  },
  {
   "cell_type": "code",
   "execution_count": null,
   "metadata": {},
   "outputs": [],
   "source": []
  }
 ],
 "metadata": {
  "kernelspec": {
   "display_name": "Python 3",
   "language": "python",
   "name": "python3"
  },
  "language_info": {
   "codemirror_mode": {
    "name": "ipython",
    "version": 3
   },
   "file_extension": ".py",
   "mimetype": "text/x-python",
   "name": "python",
   "nbconvert_exporter": "python",
   "pygments_lexer": "ipython3",
   "version": "3.6.4"
  }
 },
 "nbformat": 4,
 "nbformat_minor": 2
}
