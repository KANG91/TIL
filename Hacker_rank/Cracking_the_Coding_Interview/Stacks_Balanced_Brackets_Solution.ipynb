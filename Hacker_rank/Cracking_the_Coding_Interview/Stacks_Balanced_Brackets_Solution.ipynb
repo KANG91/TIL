{
 "cells": [
  {
   "cell_type": "markdown",
   "metadata": {},
   "source": [
    "### Stacks: Balanced Brackets\n",
    "\n",
    "A bracket is considered to be any one of the following characters: `(`, `)`, `{`, `}`, `[`, or `]`.\n",
    "\n",
    "Two brackets are considered to be a matched pair if the an opening bracket (i.e., `(`, `[`, or `{`) occurs to the left of a closing bracket (i.e., `)`, `]`, or `}`) of the exact same type. There are three types of matched pairs of brackets: `[]`, `{}`, and `()`.\n",
    "\n",
    "A matching pair of brackets is not balanced if the set of brackets it encloses are not matched. For example, `{[(])}` is not balanced because the contents in between `{` and `}` are not balanced. The pair of square brackets encloses a single, unbalanced opening bracket, `(`, and the pair of parentheses encloses a single, unbalanced closing square bracket, `]`.\n",
    "\n",
    "Some examples of balanced brackets are `[]{}()`, `[({})]{}()` and `({(){}[]})[]`.\n",
    "\n",
    "By this logic, we say a sequence of brackets is considered to be balanced if the following conditions are met:\n",
    "\n",
    "- It contains no unmatched brackets.\n",
    "- The subset of brackets enclosed within the confines of a matched pair of brackets is also a matched pair of brackets.\n",
    "\n",
    "Given  strings of brackets, determine whether each sequence of brackets is balanced. If a string is balanced, print `YES` on a new line; otherwise, print `NO` on a new line."
   ]
  },
  {
   "cell_type": "markdown",
   "metadata": {},
   "source": [
    "##### Input Format\n",
    "\n",
    "The first line contains a single integer, $n$, denoting the number of strings.     \n",
    "Each line $i$ of the $n$ subsequent lines consists of a single string, $s$, denoting a sequence of brackets."
   ]
  },
  {
   "cell_type": "markdown",
   "metadata": {},
   "source": [
    "##### Constraints\n",
    "- $1 \\le n \\le 10^3$\n",
    "- $1 \\le length(s) \\le 10^3$, where $length(s)$ is the length of the sequence.\n",
    "- Each character in the sequence will be a bracket (i.e., `{`, `}`, `(`, `)`, `[`, and `]`)."
   ]
  },
  {
   "cell_type": "markdown",
   "metadata": {},
   "source": [
    "##### Output Format\n",
    "\n",
    "For each string, print whether or not the string of brackets is balanced on a new line. If the brackets are balanced, print `YES`; otherwise, print `NO`."
   ]
  },
  {
   "cell_type": "markdown",
   "metadata": {},
   "source": [
    "##### Sample Input\n",
    "```\n",
    "3\n",
    "{[()]}\n",
    "{[(])}\n",
    "{{[[(())]]}}\n",
    "```\n",
    "##### Sample Output\n",
    "```\n",
    "YES\n",
    "NO\n",
    "YES\n",
    "```"
   ]
  },
  {
   "cell_type": "markdown",
   "metadata": {},
   "source": [
    "##### Explanation\n",
    "\n",
    "1. The string `{[()]}` meets both criteria for being a balanced string, so we print `YES` on a new line.\n",
    "2. The string `{[(])}` is not balanced, because the brackets enclosed by the matched pairs `[(]` and `(])` are not balanced. Thus, we print `NO` on a new line.\n",
    "3. The string `{{[[(())]]}}` meets both criteria for being a balanced string, so we print YES on a new line."
   ]
  },
  {
   "cell_type": "code",
   "execution_count": 5,
   "metadata": {},
   "outputs": [
    {
     "name": "stdout",
     "output_type": "stream",
     "text": [
      "3\n",
      "{[()]}\n",
      "YES\n",
      "{[(])}\n",
      "NO\n",
      "{{[[(())]]}}\n",
      "YES\n"
     ]
    }
   ],
   "source": [
    "def is_matched(expression):\n",
    "    \"\"\"\n",
    "        1. expression: Bracket 문자열\n",
    "        2. '(){}[]'로 매칭되는 dict d를 만듦\n",
    "        3. expression의 bracket이 매칭되면 하나씩 삭제하는 remove_matched 함수 생성\n",
    "        4. 최대 문자열이 expression 1000개 이므로 remove_matched 함수를 최대 500번 반복 - error가 나오면 break\n",
    "        5. 남은 문자열의 길이가 0이면 True 리턴, 그렇지 않으면 False 리턴\n",
    "    \"\"\"\n",
    "    \n",
    "    iparens = iter('(){}[]')\n",
    "    d = dict(zip(iparens, iparens))\n",
    "\n",
    "    def remove_matched(expression_str):\n",
    "        \"\"\"\n",
    "            1. expression_str: expression 문자열\n",
    "            2. expression 문자가 매칭 dict인 d의 키값으로 없거나, idx가 expression_str 문자열 길이보다 1작은것과 같으면, error 리턴\n",
    "            3. expression 문자의 매칭 문자가 다음 idx에 오는 문자와 같으면 expression_str에서 해당 expression 문자 2개를 제거 후 expression_str 리턴\n",
    "        \"\"\"\n",
    "        for idx,e in enumerate(expression_str):\n",
    "            \n",
    "            if d.get(e) == None or idx == (len(expression_str)-1): \n",
    "                expression_str = \"error\"\n",
    "                break\n",
    "\n",
    "            if d[e] == expression_str[idx+1]:\n",
    "                expression_str = expression_str[:idx] + expression_str[idx+2:]\n",
    "                break\n",
    "                \n",
    "        return expression_str\n",
    "    \n",
    "    for _ in range(500):\n",
    "        expression = remove_matched(expression)\n",
    "        if expression == \"error\":\n",
    "            break\n",
    "    \n",
    "    if len(expression) == 0:\n",
    "        return True\n",
    "    return False\n",
    "\n",
    "t = int(input().strip())\n",
    "for a0 in range(t):\n",
    "    expression = input().strip()\n",
    "    if is_matched(expression) == True:\n",
    "        print(\"YES\")\n",
    "    else:\n",
    "        print(\"NO\")"
   ]
  }
 ],
 "metadata": {
  "kernelspec": {
   "display_name": "Python 3",
   "language": "python",
   "name": "python3"
  },
  "language_info": {
   "codemirror_mode": {
    "name": "ipython",
    "version": 3
   },
   "file_extension": ".py",
   "mimetype": "text/x-python",
   "name": "python",
   "nbconvert_exporter": "python",
   "pygments_lexer": "ipython3",
   "version": "3.6.4"
  }
 },
 "nbformat": 4,
 "nbformat_minor": 2
}
