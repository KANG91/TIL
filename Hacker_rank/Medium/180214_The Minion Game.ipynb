{
 "cells": [
  {
   "cell_type": "markdown",
   "metadata": {},
   "source": [
    "Kevin and Stuart want to play the 'The Minion Game'."
   ]
  },
  {
   "cell_type": "markdown",
   "metadata": {},
   "source": [
    "#### Game Rules\n",
    "Both players are given the same string,  \n",
    "Both players have to make substrings using the letters of the string .  \n",
    "Stuart has to make words starting with consonants.  \n",
    "Kevin has to make words starting with vowels.   \n",
    "The game ends when both players have made all possible substrings"
   ]
  },
  {
   "cell_type": "markdown",
   "metadata": {},
   "source": [
    "#### Scoring\n",
    "A player gets +1 point for each occurrence of the substring in the string .\n"
   ]
  },
  {
   "cell_type": "markdown",
   "metadata": {},
   "source": [
    "#### For Example:\n",
    "String  = BANANA\n",
    "Kevin's vowel beginning word = ANA\n",
    "Here, ANA occurs twice in BANANA. Hence, Kevin will get 2 Points. "
   ]
  },
  {
   "cell_type": "code",
   "execution_count": 219,
   "metadata": {},
   "outputs": [],
   "source": [
    "def minion_game(string):\n",
    "    s = string\n",
    "    vowels = 'AEIOU'\n",
    "\n",
    "    kevsc = 0\n",
    "    stusc = 0\n",
    "    for i in range(len(s)):\n",
    "        if s[i] in vowels:\n",
    "            kevsc += (len(s)-i)\n",
    "        else:\n",
    "            stusc += (len(s)-i)\n",
    "\n",
    "    if kevsc > stusc:\n",
    "        print (\"Kevin\", kevsc)\n",
    "    elif kevsc < stusc:\n",
    "        print (\"Stuart\", stusc)\n",
    "    else:\n",
    "        print (\"Draw\")"
   ]
  },
  {
   "cell_type": "code",
   "execution_count": 222,
   "metadata": {},
   "outputs": [
    {
     "name": "stdout",
     "output_type": "stream",
     "text": [
      "Stuart 12\n"
     ]
    }
   ],
   "source": [
    "minion_game(\"BANANA\")"
   ]
  }
 ],
 "metadata": {
  "kernelspec": {
   "display_name": "Python 3",
   "language": "python",
   "name": "python3"
  },
  "language_info": {
   "codemirror_mode": {
    "name": "ipython",
    "version": 3
   },
   "file_extension": ".py",
   "mimetype": "text/x-python",
   "name": "python",
   "nbconvert_exporter": "python",
   "pygments_lexer": "ipython3",
   "version": "3.6.3"
  }
 },
 "nbformat": 4,
 "nbformat_minor": 2
}
