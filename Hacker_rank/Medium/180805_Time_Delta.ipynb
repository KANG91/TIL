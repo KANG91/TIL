{
 "cells": [
  {
   "cell_type": "markdown",
   "metadata": {},
   "source": [
    "When users post an update on social media,such as a URL, image, status update etc., other users in their network are able to view this new post on their news feed. Users can also see exactly when the post was published, i.e, how many hours, minutes or seconds ago.\n",
    "\n",
    "Since sometimes posts are published and viewed in different time zones, this can be confusing. You are given two timestamps of one such post that a user can see on his newsfeed in the following format:\n",
    "\n",
    "\n",
    "Day dd Mon yyyy hh:mm:ss +xxxx\n",
    "\n",
    "\n",
    "Here +xxxx represents the time zone. Your task is to print the absolute difference (in seconds) between them.\n",
    "\n",
    "#### Input Format\n",
    "\n",
    "The first line contains , the number of testcases. \n",
    "Each testcase contains  lines, representing time  and time .\n",
    "\n",
    "#### Constraints\n",
    "\n",
    "Input contains only valid timestamps\n",
    ".\n",
    "#### Output Format\n",
    "\n",
    "Print the absolute difference  in seconds.\n",
    "\n",
    "#### Sample Input \n",
    "\n",
    "2\n",
    "Sun 10 May 2015 13:54:36 -0700\n",
    "Sun 10 May 2015 13:54:36 -0000\n",
    "Sat 02 May 2015 19:54:36 +0530\n",
    "Fri 01 May 2015 13:54:36 -0000\n",
    "\n",
    "#### Sample Output \n",
    "\n",
    "25200\n",
    "88200\n",
    "\n",
    "#### Explanation 0\n",
    "\n",
    "In the first query, when we compare the time in UTC for both the time stamps, we see a difference of 7 hours. which is  seconds or  seconds.\n",
    "\n",
    "Similarly, in the second query, time difference is 5 hours and 30 minutes for time zone adjusting for that we have a difference of 1 day and 30 minutes. Or "
   ]
  },
  {
   "cell_type": "code",
   "execution_count": 2,
   "metadata": {},
   "outputs": [],
   "source": [
    "input_question = \"2 , Sun 10 May 2015 13:54:36 -0700, Sun 10 May 2015 13:54:36 -0000 , Sat 02 May 2015 19:54:36 +0530 , Fri 01 May 2015 13:54:36 -0000\"\n",
    "input_question = [i.strip() for i in input_question.split(',')]"
   ]
  },
  {
   "cell_type": "code",
   "execution_count": 3,
   "metadata": {},
   "outputs": [],
   "source": [
    "output_answer =\"25200, 88200\"\n",
    "output_answer = [ans.strip() for ans in output_answer.split(',')]"
   ]
  },
  {
   "cell_type": "code",
   "execution_count": 1,
   "metadata": {
    "collapsed": true
   },
   "outputs": [],
   "source": [
    "#!/bin/python3\n",
    "\n",
    "import math\n",
    "import os\n",
    "import random\n",
    "import re\n",
    "import sys\n",
    "\n",
    "import datetime\n",
    "from dateutil.parser import parse"
   ]
  },
  {
   "cell_type": "code",
   "execution_count": 58,
   "metadata": {
    "collapsed": true
   },
   "outputs": [],
   "source": [
    "# Complete the time_delta function below.\n",
    "def time_delta(t1, t2):\n",
    "    dt1 = parse(t1)\n",
    "    dt2 = parse(t2)\n",
    "    time_difference = dt1 - dt2\n",
    "    time_difference = time_difference.total_seconds() \n",
    "    time_difference = int(time_difference)\n",
    "    if time_difference < 0 :\n",
    "        time_difference = -(time_difference)\n",
    "    \n",
    "    time_difference = str(time_difference)\n",
    "    \n",
    "\n",
    "     \n",
    "    \n",
    "    return time_difference\n"
   ]
  },
  {
   "cell_type": "markdown",
   "metadata": {},
   "source": [
    "#### Test Case 1"
   ]
  },
  {
   "cell_type": "code",
   "execution_count": 40,
   "metadata": {},
   "outputs": [],
   "source": [
    "tc_1 = []\n",
    "with open(\"Time_Delta_Test_Case1\", \"r\", encoding = \"utf-8\") as case_1 : \n",
    "    for i in case_1 :\n",
    "        i = i[:-1]\n",
    "        tc_1.append(i)"
   ]
  },
  {
   "cell_type": "code",
   "execution_count": 67,
   "metadata": {},
   "outputs": [],
   "source": [
    "tc_1_ans = []\n",
    "with open(\"Time_Delta_Test_Case1_Ans\", \"r\", encoding = \"utf-8\") as case_1_ans :\n",
    "    for i in case_1_ans : \n",
    "        tc_1_ans.append(i[:-1])"
   ]
  },
  {
   "cell_type": "code",
   "execution_count": 51,
   "metadata": {},
   "outputs": [],
   "source": [
    "even = []\n",
    "odd = []\n",
    "for idx, time in enumerate(tc_1) : \n",
    "    if idx % 2 == 0 : \n",
    "        even.append(time)\n",
    "    else :\n",
    "        odd.append(time)\n",
    "        "
   ]
  },
  {
   "cell_type": "code",
   "execution_count": 63,
   "metadata": {
    "scrolled": true
   },
   "outputs": [],
   "source": [
    "my_ans = []\n",
    "for ev, od in zip(even, odd) : \n",
    "    try : \n",
    "        ans = time_delta(ev, od)\n",
    "        my_ans.append(ans)\n",
    "    except Exception as e: \n",
    "        print(\"error\")\n",
    "        print(ev, od)"
   ]
  },
  {
   "cell_type": "code",
   "execution_count": 68,
   "metadata": {},
   "outputs": [
    {
     "name": "stdout",
     "output_type": "stream",
     "text": [
      "Yes, It is right\n",
      "Yes, It is right\n",
      "Yes, It is right\n",
      "Yes, It is right\n",
      "Yes, It is right\n",
      "Yes, It is right\n",
      "Yes, It is right\n",
      "Yes, It is right\n",
      "Yes, It is right\n",
      "Yes, It is right\n",
      "Yes, It is right\n",
      "Yes, It is right\n",
      "Yes, It is right\n",
      "Yes, It is right\n",
      "Yes, It is right\n",
      "Yes, It is right\n",
      "Yes, It is right\n",
      "Yes, It is right\n",
      "Yes, It is right\n",
      "Yes, It is right\n",
      "Yes, It is right\n",
      "Yes, It is right\n",
      "Yes, It is right\n",
      "Yes, It is right\n",
      "Yes, It is right\n",
      "Yes, It is right\n",
      "Yes, It is right\n",
      "Yes, It is right\n",
      "Yes, It is right\n",
      "Yes, It is right\n",
      "Yes, It is right\n",
      "Yes, It is right\n",
      "Yes, It is right\n",
      "Yes, It is right\n",
      "Yes, It is right\n",
      "Yes, It is right\n",
      "Yes, It is right\n",
      "Yes, It is right\n",
      "Yes, It is right\n",
      "Yes, It is right\n",
      "Yes, It is right\n",
      "Yes, It is right\n",
      "Yes, It is right\n",
      "Yes, It is right\n",
      "Yes, It is right\n",
      "Yes, It is right\n",
      "Yes, It is right\n",
      "Yes, It is right\n",
      "Yes, It is right\n",
      "Yes, It is right\n",
      "Yes, It is right\n",
      "Yes, It is right\n",
      "Yes, It is right\n",
      "Yes, It is right\n",
      "Yes, It is right\n",
      "Yes, It is right\n",
      "Yes, It is right\n",
      "Yes, It is right\n",
      "Yes, It is right\n",
      "Yes, It is right\n",
      "Yes, It is right\n",
      "Yes, It is right\n",
      "Yes, It is right\n",
      "Yes, It is right\n",
      "Yes, It is right\n",
      "Yes, It is right\n",
      "Yes, It is right\n",
      "Yes, It is right\n",
      "Yes, It is right\n",
      "Yes, It is right\n",
      "Yes, It is right\n",
      "Yes, It is right\n",
      "Yes, It is right\n",
      "Yes, It is right\n",
      "Yes, It is right\n",
      "Yes, It is right\n",
      "Yes, It is right\n",
      "Yes, It is right\n",
      "Yes, It is right\n",
      "Yes, It is right\n",
      "Yes, It is right\n",
      "Yes, It is right\n",
      "Yes, It is right\n",
      "Yes, It is right\n",
      "Yes, It is right\n",
      "Yes, It is right\n",
      "Yes, It is right\n",
      "Yes, It is right\n",
      "Yes, It is right\n",
      "Yes, It is right\n",
      "Yes, It is right\n",
      "Yes, It is right\n",
      "Yes, It is right\n",
      "Yes, It is right\n",
      "Yes, It is right\n",
      "Yes, It is right\n",
      "Yes, It is right\n",
      "Yes, It is right\n",
      "Yes, It is right\n"
     ]
    }
   ],
   "source": [
    "for mine, real in zip(my_ans, tc_1_ans) : \n",
    "    if mine == real : \n",
    "        print(\"Yes, It is right\")\n",
    "    "
   ]
  }
 ],
 "metadata": {
  "kernelspec": {
   "display_name": "Python 3",
   "language": "python",
   "name": "python3"
  },
  "language_info": {
   "codemirror_mode": {
    "name": "ipython",
    "version": 3
   },
   "file_extension": ".py",
   "mimetype": "text/x-python",
   "name": "python",
   "nbconvert_exporter": "python",
   "pygments_lexer": "ipython3",
   "version": "3.6.3"
  }
 },
 "nbformat": 4,
 "nbformat_minor": 2
}
