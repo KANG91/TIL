{
 "cells": [
  {
   "cell_type": "markdown",
   "metadata": {},
   "source": [
    "#### Sample Input\n",
    "\n",
    "AABCAAADA  \n",
    "3    "
   ]
  },
  {
   "cell_type": "markdown",
   "metadata": {},
   "source": [
    "#### Sample Output\n",
    "\n",
    "AB  \n",
    "CA  \n",
    "AD  "
   ]
  },
  {
   "cell_type": "code",
   "execution_count": 31,
   "metadata": {
    "collapsed": true
   },
   "outputs": [],
   "source": [
    "def merge_the_tools(string, k):\n",
    "    n = int(len(string)/int(k))\n",
    "    for i in range(1, int(k)+1) :  \n",
    "        string_by_k = string[ (i - 1) * n : n * i]\n",
    "        result = []\n",
    "        for i in range(len(string_by_k)) :\n",
    "        \n",
    "            if i == 0 :\n",
    "                result.append(string_by_k[i])\n",
    "            elif string_by_k[i] not in result :\n",
    "                result.append(string_by_k[i])\n",
    "    \n",
    "        print(\"\".join(result))"
   ]
  },
  {
   "cell_type": "code",
   "execution_count": 34,
   "metadata": {
    "scrolled": false
   },
   "outputs": [
    {
     "name": "stdout",
     "output_type": "stream",
     "text": [
      "KYQTWXDLINFBHRGZVCUSAMOEPJ\n",
      "YUGTZIWNVSALBXOCDMPFEKJRQH\n"
     ]
    }
   ],
   "source": [
    "merge_the_tools(sentence, n)"
   ]
  },
  {
   "cell_type": "markdown",
   "metadata": {},
   "source": [
    "---------"
   ]
  },
  {
   "cell_type": "markdown",
   "metadata": {},
   "source": [
    "#### other answer"
   ]
  },
  {
   "cell_type": "code",
   "execution_count": 45,
   "metadata": {},
   "outputs": [
    {
     "name": "stdout",
     "output_type": "stream",
     "text": [
      "AABCAAADA\n",
      "3\n",
      "AB\n",
      "CA\n",
      "AD\n"
     ]
    }
   ],
   "source": [
    "S, N = input(), int(input()) \n",
    "for part in zip(*[iter(S)] * N):\n",
    "    d = dict()\n",
    "    print(''.join([ d.setdefault(c, c) for c in part if c not in d ]))"
   ]
  }
 ],
 "metadata": {
  "kernelspec": {
   "display_name": "Python 3",
   "language": "python",
   "name": "python3"
  },
  "language_info": {
   "codemirror_mode": {
    "name": "ipython",
    "version": 3
   },
   "file_extension": ".py",
   "mimetype": "text/x-python",
   "name": "python",
   "nbconvert_exporter": "python",
   "pygments_lexer": "ipython3",
   "version": "3.6.3"
  }
 },
 "nbformat": 4,
 "nbformat_minor": 2
}
