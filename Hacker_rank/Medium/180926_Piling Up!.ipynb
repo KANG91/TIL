{
 "cells": [
  {
   "cell_type": "markdown",
   "metadata": {},
   "source": [
    "#### Input Format\n",
    "\n",
    "The first line contains a single integer , the number of test cases. \n",
    "For each test case, there are  lines. \n",
    "The first line of each test case contains , the number of cubes. \n",
    "The second line contains  space separated integers, denoting the sideLengths of each cube in that order.\n",
    "\n",
    "\n",
    "#### Output Format\n",
    "\n",
    "For each test case, output a single line containing either \"Yes\" or \"No\" without the quotes.\n",
    "\n",
    "#### Sample Input\n",
    "\n",
    "2  \n",
    "6  \n",
    "4 3 2 1 3 4  \n",
    "3  \n",
    "1 3 2  \n",
    "\n",
    "#### Sample Output\n",
    "\n",
    "Yes  \n",
    "No  \n",
    "#### Explanation\n",
    "\n",
    "In the first test case, pick in this order: left - , right - , left - , right - , left - , right - .   \n",
    "In the second test case, no order gives an appropriate arrangement of vertical cubes.  will always come after either  or .  "
   ]
  },
  {
   "cell_type": "code",
   "execution_count": 41,
   "metadata": {},
   "outputs": [],
   "source": [
    "def piling_up(number_of_cubes, sideLength_of_cubes) : \n",
    "    for _ in range(number_of_cubes) : \n",
    "        leftmost = sideLength_of_cubes[0]\n",
    "        rightmost = sideLength_of_cubes[-1]\n",
    "        if leftmost >= rightmost : \n",
    "            trash = sideLength_of_cubes.pop(0)\n",
    "        else :\n",
    "            trash = sideLength_of_cubes.pop(-1)\n",
    "        if trash >= max(sideLength_of_cubes) or \\\n",
    "        len(sideLength_of_cubes) == 0 : \n",
    "            result = \"Yes\"\n",
    "        else : \n",
    "            result = \"No\"\n",
    "        if result == \"No\" :\n",
    "            return result\n",
    "\n",
    "        return result"
   ]
  },
  {
   "cell_type": "code",
   "execution_count": 42,
   "metadata": {},
   "outputs": [
    {
     "name": "stdout",
     "output_type": "stream",
     "text": [
      "2\n",
      "6\n",
      "4 3 2 1 3 4\n",
      "Yes\n",
      "3\n",
      "1 3 2\n",
      "No\n"
     ]
    }
   ],
   "source": [
    "number_of_test_cases = int(input())\n",
    "for _ in range(number_of_test_cases) : \n",
    "    number_of_cubes = int(input())\n",
    "    sideLength_of_cubes = list(map(int, input().split()))\n",
    "    answer = piling_up(number_of_cubes, sideLength_of_cubes)\n",
    "    print(answer)"
   ]
  },
  {
   "cell_type": "markdown",
   "metadata": {},
   "source": [
    "--- 이상 나의 솔루션 ---"
   ]
  },
  {
   "cell_type": "code",
   "execution_count": null,
   "metadata": {},
   "outputs": [],
   "source": [
    "#discussion 에서 제일 놀라웠던 솔루션.\n",
    "for t in range(input()):\n",
    "    input()\n",
    "    lst = map(int, raw_input().split())\n",
    "    l = len(lst)\n",
    "    i = 0\n",
    "    while i < l - 1 and lst[i] >= lst[i+1]:\n",
    "        i += 1\n",
    "    while i < l - 1 and lst[i] <= lst[i+1]:\n",
    "        i += 1\n",
    "    print \"Yes\" if i == l - 1 else \"No\""
   ]
  }
 ],
 "metadata": {
  "kernelspec": {
   "display_name": "Python 3",
   "language": "python",
   "name": "python3"
  },
  "language_info": {
   "codemirror_mode": {
    "name": "ipython",
    "version": 3
   },
   "file_extension": ".py",
   "mimetype": "text/x-python",
   "name": "python",
   "nbconvert_exporter": "python",
   "pygments_lexer": "ipython3",
   "version": "3.6.5"
  }
 },
 "nbformat": 4,
 "nbformat_minor": 2
}
