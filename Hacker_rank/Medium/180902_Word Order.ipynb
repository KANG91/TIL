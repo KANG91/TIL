{
 "cells": [
  {
   "cell_type": "markdown",
   "metadata": {},
   "source": [
    "#### Constraints: \n",
    " \n",
    "The sum of the lengths of all the words do not exceed    \n",
    "All the words are composed of lowercase English letters only.  \n",
    "\n",
    "#### Input Format  \n",
    "\n",
    "The first line contains the integer,   \n",
    "The next  lines each contain a word.  \n",
    "\n",
    "#### Output Format\n",
    "\n",
    "Output 2 lines.   \n",
    "On the first line, output the number of distinct words from the input.   \n",
    "On the second line, output the number of occurrences for each distinct word according to their appearance in the input.  \n",
    "\n",
    "#### Sample Input\n",
    "\n",
    "4  \n",
    "bcdef  \n",
    "abcdefg  \n",
    "bcde  \n",
    "bcdef  \n",
    "\n",
    "#### Sample Output  \n",
    "\n",
    "3  \n",
    "2 1 1  "
   ]
  },
  {
   "cell_type": "code",
   "execution_count": 1,
   "metadata": {},
   "outputs": [
    {
     "name": "stdout",
     "output_type": "stream",
     "text": [
      "4\n",
      "bcdef\n",
      "abcdefg\n",
      "bcde\n",
      "bcdef\n"
     ]
    }
   ],
   "source": [
    "n = int(input())\n",
    "word_list = [input() for _ in range(n)]\n",
    "\n",
    "number_of_distinct_words = len(set(word_list))\n",
    "\n",
    "score_list = []\n",
    "for word_1 in word_list :\n",
    "    count = 0\n",
    "    word_list_2 = set(word_list)\n",
    "    word_list_2.remove(word_1)\n",
    "    for word_2 in word_list_2 : \n",
    "        if word_1 in word_2 :\n",
    "            count+= 1\n",
    "    score_list.append(count)\n",
    "score_list = [str(score) for score in score_list if score != 0]\n",
    "score_list.sort(reverse = True)\n",
    "\n",
    "print(number_of_distinct_words)`\n",
    "print(\" \".join(score_list))"
   ]
  }
 ],
 "metadata": {
  "kernelspec": {
   "display_name": "Python 3",
   "language": "python",
   "name": "python3"
  },
  "language_info": {
   "codemirror_mode": {
    "name": "ipython",
    "version": 3
   },
   "file_extension": ".py",
   "mimetype": "text/x-python",
   "name": "python",
   "nbconvert_exporter": "python",
   "pygments_lexer": "ipython3",
   "version": "3.6.5"
  }
 },
 "nbformat": 4,
 "nbformat_minor": 2
}
