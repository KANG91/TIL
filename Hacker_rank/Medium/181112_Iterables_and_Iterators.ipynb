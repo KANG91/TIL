{
 "cells": [
  {
   "cell_type": "markdown",
   "metadata": {},
   "source": [
    "https://www.hackerrank.com/challenges/iterables-and-iterators/problem"
   ]
  },
  {
   "cell_type": "markdown",
   "metadata": {},
   "source": [
    "#### Sample Input\n",
    " \n",
    "4   \n",
    "a a c d  \n",
    "2  \n",
    "#### Sample Output  \n",
    "\n",
    "0.8333\n",
    "\n",
    "#### Explanation  \n",
    "\n",
    "All possible unordered tuples of length  comprising of indices from  to  are:  \n",
    "(1,2), (1,3), (1,4), (2,3), (2,4), (3,4)\n",
    "\n",
    "Out of these 6 combinations,  5 of them contain either 1 index  or 2 index  which are the indices that contain the letter 'a'.\n",
    "\n",
    "Hence, the answer is 5/6."
   ]
  },
  {
   "cell_type": "code",
   "execution_count": 6,
   "metadata": {},
   "outputs": [],
   "source": [
    "from itertools import combinations"
   ]
  },
  {
   "cell_type": "code",
   "execution_count": 29,
   "metadata": {
    "scrolled": true
   },
   "outputs": [
    {
     "name": "stdout",
     "output_type": "stream",
     "text": [
      "4\n",
      "a a c d\n",
      "2\n"
     ]
    }
   ],
   "source": [
    "n = int(input())\n",
    "\n",
    "letters = input().split()\n",
    "\n",
    "n_combinations = int(input())\n",
    "\n",
    "all_possible_events = list(combinations([i for i in range(1, n +1)], n_combinations))\n",
    "\n",
    "letters_str = \"\".join(letters)\n",
    "\n",
    "a_list = []\n",
    "for idx, value in enumerate(letters_str) : \n",
    "    if value == \"a\" : \n",
    "        a_list.append(idx +1)\n",
    "\n",
    "count = 0\n",
    "\n",
    "for event in all_possible_events :\n",
    "    result = []\n",
    "    for i in a_list : \n",
    "        if i in event : \n",
    "            result.append(True)\n",
    "    if any(result) : \n",
    "        count += 1\n",
    "    else : \n",
    "        pass\n",
    "            \n",
    "\n",
    "ans = count/len(all_possible_events)\n",
    "\n",
    "print(round(ans, 4))"
   ]
  },
  {
   "cell_type": "markdown",
   "metadata": {},
   "source": [
    "Best answers i think in discussion"
   ]
  },
  {
   "cell_type": "code",
   "execution_count": 41,
   "metadata": {},
   "outputs": [
    {
     "name": "stdout",
     "output_type": "stream",
     "text": [
      "4\n",
      "a a c d\n",
      "2\n",
      "0.833\n"
     ]
    }
   ],
   "source": [
    "N = int(input())\n",
    "L = input().split()\n",
    "K = int(input())\n",
    "\n",
    "C = list(combinations(L, K))\n",
    "F = list(filter(lambda c: 'a' in c, C))\n",
    "print(\"{0:.3}\".format(len(F)/len(C)))"
   ]
  }
 ],
 "metadata": {
  "kernelspec": {
   "display_name": "Python 3",
   "language": "python",
   "name": "python3"
  },
  "language_info": {
   "codemirror_mode": {
    "name": "ipython",
    "version": 3
   },
   "file_extension": ".py",
   "mimetype": "text/x-python",
   "name": "python",
   "nbconvert_exporter": "python",
   "pygments_lexer": "ipython3",
   "version": "3.6.5"
  }
 },
 "nbformat": 4,
 "nbformat_minor": 2
}
