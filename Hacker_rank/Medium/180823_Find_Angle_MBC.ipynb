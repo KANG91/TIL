{
 "cells": [
  {
   "cell_type": "markdown",
   "metadata": {},
   "source": [
    "#### Find_Angle_MBC"
   ]
  },
  {
   "attachments": {},
   "cell_type": "markdown",
   "metadata": {},
   "source": [
    "![image.png](./img/Find_Angle_MBC.png)"
   ]
  },
  {
   "cell_type": "markdown",
   "metadata": {},
   "source": [
    "#### 코사인 제 2법칙 사용"
   ]
  },
  {
   "cell_type": "code",
   "execution_count": 46,
   "metadata": {},
   "outputs": [
    {
     "name": "stdout",
     "output_type": "stream",
     "text": [
      "10\n",
      "10\n",
      "45°\n"
     ]
    }
   ],
   "source": [
    "import math\n",
    "\n",
    "Line_AB = int(input())\n",
    "Line_BC = int(input())\n",
    "\n",
    "Line_AC = (math.sqrt(Line_AB ** 2 + Line_BC ** 2))\n",
    "Line_MC = Line_AC/2\n",
    "\n",
    "Cos_Angle_ACB = ((Line_AB ** 2) - (Line_BC ** 2) - (Line_AC ** 2))/(-2 * Line_BC * Line_AC) \n",
    "Line_MB = math.sqrt( (Line_BC ** 2 ) + (Line_MC ** 2) - 2 * Line_BC * Line_MC * Cos_Angle_ACB) \n",
    "Cos_Angle_MBC = ((Line_MC ** 2) - (Line_MB ** 2) - (Line_BC ** 2))/(-2 * Line_MB * Line_BC)\n",
    "\n",
    "Cos_radian = math.acos(Cos_Angle_MBC)\n",
    "Cos_degrees = math.degrees(Cos_radian)\n",
    "\n",
    "print(str(int(round(Cos_degrees))) + \"°\")"
   ]
  }
 ],
 "metadata": {
  "kernelspec": {
   "display_name": "Python 3",
   "language": "python",
   "name": "python3"
  },
  "language_info": {
   "codemirror_mode": {
    "name": "ipython",
    "version": 3
   },
   "file_extension": ".py",
   "mimetype": "text/x-python",
   "name": "python",
   "nbconvert_exporter": "python",
   "pygments_lexer": "ipython3",
   "version": "3.6.5"
  }
 },
 "nbformat": 4,
 "nbformat_minor": 2
}
