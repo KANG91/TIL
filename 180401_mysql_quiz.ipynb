{
 "cells": [
  {
   "cell_type": "markdown",
   "metadata": {},
   "source": [
    "# Quiz 1"
   ]
  },
  {
   "cell_type": "markdown",
   "metadata": {},
   "source": [
    "SELECT Name, Population  \n",
    "FROM country  \n",
    "WHERE Population >  \n",
    "    (SELECT Population  \n",
    "    FROM country  \n",
    "    WHERE Name = \"Mexico\")  \n",
    "    ORDER BY Population DESC;  "
   ]
  },
  {
   "cell_type": "markdown",
   "metadata": {},
   "source": [
    "# Quiz 2"
   ]
  },
  {
   "cell_type": "markdown",
   "metadata": {},
   "source": [
    "SELECT country.Name ,COUNT(CountryCode) as count  \n",
    "FROM city  \n",
    "JOIN country ON city.CountryCode = country.Code  \n",
    "GROUP BY CountryCode  \n",
    "ORDER BY count DESC  \n",
    "limit 10;    "
   ]
  },
  {
   "cell_type": "markdown",
   "metadata": {},
   "source": [
    "# Quiz 3"
   ]
  },
  {
   "cell_type": "markdown",
   "metadata": {},
   "source": [
    "SELECT c1.Language, ROUND(SUM((country.Population * c1.Percentage)/100)) AS count  \n",
    "FROM countrylanguage AS c1  \n",
    "JOIN country ON c1.CountryCode = country.Code  \n",
    "GROUP BY c1.Language  \n",
    "ORDER BY count DESC  \n",
    "limit 10;  "
   ]
  },
  {
   "cell_type": "markdown",
   "metadata": {},
   "source": [
    "# Quiz 4"
   ]
  },
  {
   "cell_type": "markdown",
   "metadata": {},
   "source": [
    "SELECT c1.Name, c1.CountryCode, country.Name, ((c1.Population/country.Population) * 100) AS percentage  \n",
    "FROM city AS c1  \n",
    "LEFT JOIN country ON c1.CountryCode = country.Code  \n",
    "WHERE c1.Population > 5000000  \n",
    "HAVING percentage>10  \n",
    "ORDER BY percentage DESC;  "
   ]
  },
  {
   "cell_type": "markdown",
   "metadata": {},
   "source": [
    "# Quiz 5 "
   ]
  },
  {
   "cell_type": "markdown",
   "metadata": {},
   "source": [
    "SELECT country.Name, COUNT(DISTINCT(countrylanguage.Language)) AS language_count  \n",
    "FROM countrylanguage, country  \n",
    "JOIN  \n",
    "    (SELECT Code, SurfaceArea, (Population/SurfaceArea) as density  \n",
    "    FROM country  \n",
    "    WHERE SurfaceArea > 10000  \n",
    "    HAVING density > 200) new  \n",
    "ON new.Code = country.Code   \n",
    "WHERE country.Code = countrylanguage.CountryCode  \n",
    "GROUP BY country.Name  \n",
    "HAVING language_count>5  \n",
    "ORDER BY language_count DESC;"
   ]
  },
  {
   "cell_type": "markdown",
   "metadata": {},
   "source": [
    "# Quiz 6"
   ]
  },
  {
   "cell_type": "markdown",
   "metadata": {},
   "source": [
    "CREATE VIEW test AS  \n",
    "SELECT country.Code, country.Name, COUNT(c1.Language) as language_count, group_concat(Language) as languages  \n",
    "FROM countrylanguage as c1  \n",
    "JOIN country ON country.Code = c1.CountryCode  \n",
    "GROUP BY country.Name, country.Code  \n",
    "HAVING language_count<=3;  \n",
    "\n",
    "SELECT city.CountryCode, city.Name as city_name, Population, test.Name, test.language_count, test.languages  \n",
    "FROM city  \n",
    "JOIN test ON city.CountryCode = test.Code  \n",
    "HAVING Population > 3000000  \n",
    "ORDER BY Population DESC;  \n",
    "  \n",
    "  "
   ]
  }
 ],
 "metadata": {
  "kernelspec": {
   "display_name": "Python 3",
   "language": "python",
   "name": "python3"
  },
  "language_info": {
   "codemirror_mode": {
    "name": "ipython",
    "version": 3
   },
   "file_extension": ".py",
   "mimetype": "text/x-python",
   "name": "python",
   "nbconvert_exporter": "python",
   "pygments_lexer": "ipython3",
   "version": "3.6.3"
  }
 },
 "nbformat": 4,
 "nbformat_minor": 2
}
