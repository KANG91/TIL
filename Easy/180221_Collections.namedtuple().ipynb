{
 "cells": [
  {
   "cell_type": "markdown",
   "metadata": {},
   "source": [
    "#### Sample Input\n",
    "TESTCASE 01  \n",
    "5  \n",
    "ID         MARKS      NAME       CLASS     \n",
    "1          97         Raymond    7         \n",
    "2          50         Steven     4         \n",
    "3          91         Adrian     9         \n",
    "4          72         Stewart    5         \n",
    "5          80         Peter      6 \n",
    "\n",
    "TESTCASE 02  \n",
    "5  \n",
    "MARKS      CLASS      NAME       ID        \n",
    "92         2          Calum      1         \n",
    "82         5          Scott      2         \n",
    "94         2          Jason      3         \n",
    "55         8          Glenn      4         \n",
    "82         2          Fergus     5\n"
   ]
  },
  {
   "cell_type": "markdown",
   "metadata": {},
   "source": [
    "#### Sample Input\n",
    "TESTCASE 01\n",
    "\n",
    "78.00\n",
    "\n",
    "TESTCASE 02\n",
    "\n",
    "81.00"
   ]
  },
  {
   "cell_type": "code",
   "execution_count": 73,
   "metadata": {},
   "outputs": [
    {
     "name": "stdout",
     "output_type": "stream",
     "text": [
      "5\n",
      "ID MARKS NAME CLASS\n",
      "1 97 Raymond 7\n",
      "2 50 Steven 4\n",
      "3 91 Adrian 9\n",
      "4 72 Stewart 5\n",
      "5 80 Peter 6\n",
      "78.0\n"
     ]
    }
   ],
   "source": [
    "from collections import namedtuple\n",
    "n = int(input())\n",
    "total = 0\n",
    "report_card = namedtuple(\"report_card\", input())\n",
    "\n",
    "for _ in range(n) : \n",
    "    full_info = input().split()\n",
    "    student = report_card(full_info[0], full_info[1], full_info[2], full_info[3])\n",
    "    total += int(student.MARKS)\n",
    "\n",
    "print(round(total / n, 2))"
   ]
  }
 ],
 "metadata": {
  "kernelspec": {
   "display_name": "Python 3",
   "language": "python",
   "name": "python3"
  },
  "language_info": {
   "codemirror_mode": {
    "name": "ipython",
    "version": 3
   },
   "file_extension": ".py",
   "mimetype": "text/x-python",
   "name": "python",
   "nbconvert_exporter": "python",
   "pygments_lexer": "ipython3",
   "version": "3.6.3"
  }
 },
 "nbformat": 4,
 "nbformat_minor": 2
}
