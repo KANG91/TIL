{
 "cells": [
  {
   "cell_type": "markdown",
   "metadata": {},
   "source": [
    "#### Sample Input\n",
    "5 2  \n",
    "a  \n",
    "a  \n",
    "b  \n",
    "a  \n",
    "b  \n",
    "a  \n",
    "b  "
   ]
  },
  {
   "cell_type": "markdown",
   "metadata": {},
   "source": [
    "#### Sample Output\n",
    "\n",
    "1 2 4  \n",
    "3 5"
   ]
  },
  {
   "cell_type": "code",
   "execution_count": 134,
   "metadata": {},
   "outputs": [
    {
     "name": "stdout",
     "output_type": "stream",
     "text": [
      "5 2\n",
      "a\n",
      "a\n",
      "b\n",
      "a\n",
      "b\n",
      "c\n",
      "-1\n",
      "c\n",
      "-1\n"
     ]
    }
   ],
   "source": [
    "from collections import defaultdict\n",
    "dic = defaultdict(list)\n",
    "\n",
    "group_A, group_B = map(int, input().split())\n",
    "\n",
    "for idx in range(group_A) :\n",
    "    dic[input()].append(str(idx + 1)) \n",
    "\n",
    "for _ in range(group_B) :\n",
    "    word = input()\n",
    "    if word in dic.keys() : \n",
    "        print(\" \".join(dic[word]))\n",
    "    else :\n",
    "        print(-1)"
   ]
  }
 ],
 "metadata": {
  "kernelspec": {
   "display_name": "Python 3",
   "language": "python",
   "name": "python3"
  },
  "language_info": {
   "codemirror_mode": {
    "name": "ipython",
    "version": 3
   },
   "file_extension": ".py",
   "mimetype": "text/x-python",
   "name": "python",
   "nbconvert_exporter": "python",
   "pygments_lexer": "ipython3",
   "version": "3.6.3"
  }
 },
 "nbformat": 4,
 "nbformat_minor": 2
}
