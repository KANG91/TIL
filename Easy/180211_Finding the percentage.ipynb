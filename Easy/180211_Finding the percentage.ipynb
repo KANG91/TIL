{
 "cells": [
  {
   "cell_type": "markdown",
   "metadata": {},
   "source": [
    "Sample Input\n",
    "\n",
    "3\n",
    "Krishna 67 68 69\n",
    "Arjun 70 98 63\n",
    "Malika 52 56 60\n",
    "Malika\n",
    "\n",
    "\n",
    "Sample Output\n",
    "\n",
    "56.00"
   ]
  },
  {
   "cell_type": "code",
   "execution_count": null,
   "metadata": {},
   "outputs": [],
   "source": [
    "#Given\n",
    "n = int(input())\n",
    "student_marks = {}\n",
    "for _ in range(n):\n",
    "    name, *line = input().split()\n",
    "    scores = list(map(float, line))\n",
    "    student_marks[name] = scores\n",
    "query_name = input()"
   ]
  },
  {
   "cell_type": "code",
   "execution_count": 8,
   "metadata": {},
   "outputs": [
    {
     "name": "stdout",
     "output_type": "stream",
     "text": [
      "3\n",
      "a 1 2 3\n",
      "a ['1', '2', '3']\n",
      "{'a': [1.0, 2.0, 3.0]}\n",
      "b 1 2 3\n",
      "b ['1', '2', '3']\n",
      "{'a': [1.0, 2.0, 3.0], 'b': [1.0, 2.0, 3.0]}\n",
      "c 1 2 3\n",
      "c ['1', '2', '3']\n",
      "{'a': [1.0, 2.0, 3.0], 'b': [1.0, 2.0, 3.0], 'c': [1.0, 2.0, 3.0]}\n",
      "c\n",
      "2.00\n"
     ]
    }
   ],
   "source": [
    "n = int(input())\n",
    "student_marks = {}\n",
    "for _ in range(n):\n",
    "    name, *line = input().split()\n",
    "    print(name, line)\n",
    "    scores = list(map(float, line))\n",
    "    student_marks[name] = scores\n",
    "    print(student_marks)\n",
    "query_name = input()\n",
    "aver = sum(student_marks[query_name])/len(student_marks[query_name]) \n",
    "print(\"%.2f\"%aver)"
   ]
  },
  {
   "cell_type": "code",
   "execution_count": null,
   "metadata": {},
   "outputs": [],
   "source": []
  }
 ],
 "metadata": {
  "kernelspec": {
   "display_name": "Python 3",
   "language": "python",
   "name": "python3"
  },
  "language_info": {
   "codemirror_mode": {
    "name": "ipython",
    "version": 3
   },
   "file_extension": ".py",
   "mimetype": "text/x-python",
   "name": "python",
   "nbconvert_exporter": "python",
   "pygments_lexer": "ipython3",
   "version": "3.6.3"
  }
 },
 "nbformat": 4,
 "nbformat_minor": 2
}
