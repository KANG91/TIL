{
 "cells": [
  {
   "cell_type": "markdown",
   "metadata": {},
   "source": [
    "#### Sample input\n",
    "10  \n",
    "2 3 4 5 6 8 7 6 5 18  \n",
    "6  \n",
    "6 55  \n",
    "6 45  \n",
    "6 55  \n",
    "4 40  \n",
    "18 60  \n",
    "10 50  "
   ]
  },
  {
   "cell_type": "markdown",
   "metadata": {},
   "source": [
    "#### Sample Output\n",
    "200"
   ]
  },
  {
   "cell_type": "code",
   "execution_count": 1,
   "metadata": {
    "collapsed": true
   },
   "outputs": [],
   "source": [
    "from collections import Counter\n",
    "\n",
    "number_of_shoes = int(input())\n",
    "shoes_ls = input().split()\n",
    "shoes_ls = Counter(shoes_ls)\n",
    "number_of_people = int(input())\n",
    "total = 0\n",
    "for _ in range(number_of_people) :\n",
    "    size_money = input().split()\n",
    "    size = size_money[0]\n",
    "    money = int(size_money[1])\n",
    "    shoes_ls[size] -= 1\n",
    "    if shoes_ls[size] < 0 :\n",
    "        money = 0\n",
    "    total += money\n",
    "print(total)"
   ]
  }
 ],
 "metadata": {
  "kernelspec": {
   "display_name": "Python 3",
   "language": "python",
   "name": "python3"
  },
  "language_info": {
   "codemirror_mode": {
    "name": "ipython",
    "version": 3
   },
   "file_extension": ".py",
   "mimetype": "text/x-python",
   "name": "python",
   "nbconvert_exporter": "python",
   "pygments_lexer": "ipython3",
   "version": "3.6.3"
  }
 },
 "nbformat": 4,
 "nbformat_minor": 2
}
