{
 "cells": [
  {
   "cell_type": "markdown",
   "metadata": {},
   "source": [
    "#### Sample Input\n",
    "2 2  \n",
    "1 2  \n",
    "3 4  \n"
   ]
  },
  {
   "cell_type": "markdown",
   "metadata": {},
   "source": [
    "#### Sample Output\n",
    "[ 1.5  3.5]  \n",
    "[ 1.  1.]  \n",
    "1.11803398875"
   ]
  },
  {
   "cell_type": "code",
   "execution_count": 31,
   "metadata": {},
   "outputs": [
    {
     "name": "stdout",
     "output_type": "stream",
     "text": [
      "3 3\n",
      "1 1 1\n",
      "1 1 1\n",
      "1 1 1\n",
      "[ 1.  1.  1.]\n",
      "[ 0.  0.  0.]\n",
      "0.0\n"
     ]
    }
   ],
   "source": [
    "s = [[int(i) for i in input().split()] for _ in range(list(map(int, input().split()))[0])]\n",
    "print(np.mean(s, axis = 1))\n",
    "print(np.var(s, axis = 0))\n",
    "print(np.std(s, axis = None ))"
   ]
  }
 ],
 "metadata": {
  "kernelspec": {
   "display_name": "Python 3",
   "language": "python",
   "name": "python3"
  },
  "language_info": {
   "codemirror_mode": {
    "name": "ipython",
    "version": 3
   },
   "file_extension": ".py",
   "mimetype": "text/x-python",
   "name": "python",
   "nbconvert_exporter": "python",
   "pygments_lexer": "ipython3",
   "version": "3.6.3"
  }
 },
 "nbformat": 4,
 "nbformat_minor": 2
}
