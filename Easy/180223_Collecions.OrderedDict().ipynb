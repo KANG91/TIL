{
 "cells": [
  {
   "cell_type": "markdown",
   "metadata": {},
   "source": [
    "#### Example\n",
    "from collections import OrderedDict  \n",
    " \n",
    "ordinary_dictionary = {}  \n",
    "ordinary_dictionary['a'] = 1  \n",
    "ordinary_dictionary['b'] = 2  \n",
    "ordinary_dictionary['c'] = 3  \n",
    "ordinary_dictionary['d'] = 4  \n",
    "ordinary_dictionary['e'] = 5  \n",
    " \n",
    "print(ordinary_dictionary ) \n",
    "{'a': 1, 'c': 3, 'b': 2, 'e': 5, 'd': 4}  \n",
    " \n",
    "ordered_dictionary = OrderedDict()  \n",
    "ordered_dictionary['a'] = 1  \n",
    "ordered_dictionary['b'] = 2  \n",
    "ordered_dictionary['c'] = 3  \n",
    "ordered_dictionary['d'] = 4  \n",
    "ordered_dictionary['e'] = 5  \n",
    " \n",
    "print(ordered_dictionary)  \n",
    "OrderedDict([('a', 1), ('b', 2), ('c', 3), ('d', 4), ('e', 5)])  "
   ]
  },
  {
   "cell_type": "markdown",
   "metadata": {},
   "source": [
    "#### Sample Input\n",
    "9  \n",
    "BANANA FRIES 12  \n",
    "POTATO CHIPS 30  \n",
    "APPLE JUICE 10  \n",
    "CANDY 5  \n",
    "APPLE JUICE 10  \n",
    "CANDY 5  \n",
    "CANDY 5  \n",
    "CANDY 5  \n",
    "POTATO CHIPS 30  "
   ]
  },
  {
   "cell_type": "markdown",
   "metadata": {},
   "source": [
    "#### Sample Outpu\n",
    "BANANA FRIES 12  \n",
    "POTATO CHIPS 60  \n",
    "APPLE JUICE 20  \n",
    "CANDY 20  "
   ]
  },
  {
   "cell_type": "code",
   "execution_count": 21,
   "metadata": {
    "scrolled": true
   },
   "outputs": [
    {
     "name": "stdout",
     "output_type": "stream",
     "text": [
      "9\n",
      "BANANA FRIES 12\n",
      "POTATO CHIPS 30\n",
      "APPLE JUICE 10\n",
      "CANDY 5\n",
      "APPLE JUICE 10\n",
      "CANDY 5\n",
      "CANDY 5\n",
      "CANDY 5\n",
      "POTATO CHIPS 30\n"
     ]
    }
   ],
   "source": [
    "from collections import OrderedDict\n",
    "dict = OrderedDict()\n",
    "n = int(input())\n",
    "for _ in range(n) : \n",
    "    name_price = input().split()\n",
    "    name = \" \".join(name_price[ : -1])\n",
    "    price = int(\"\".join(name_price[ -1 : ]))\n",
    "    \n",
    "    if name in dict :\n",
    "        dict[name] += price\n",
    "    else :\n",
    "        dict[name] = price\n",
    "        \n",
    "for i in dict : \n",
    "    print(i, dict[i])\n",
    "    "
   ]
  }
 ],
 "metadata": {
  "kernelspec": {
   "display_name": "Python 3",
   "language": "python",
   "name": "python3"
  },
  "language_info": {
   "codemirror_mode": {
    "name": "ipython",
    "version": 3
   },
   "file_extension": ".py",
   "mimetype": "text/x-python",
   "name": "python",
   "nbconvert_exporter": "python",
   "pygments_lexer": "ipython3",
   "version": "3.6.3"
  }
 },
 "nbformat": 4,
 "nbformat_minor": 2
}
